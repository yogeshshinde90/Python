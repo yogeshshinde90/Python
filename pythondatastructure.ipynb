{
  "nbformat": 4,
  "nbformat_minor": 0,
  "metadata": {
    "colab": {
      "provenance": []
    },
    "kernelspec": {
      "name": "python3",
      "display_name": "Python 3"
    },
    "language_info": {
      "name": "python"
    }
  },
  "cells": [
    {
      "cell_type": "markdown",
      "source": [
        "\n",
        "1. What are data structures, and why are they important?\n",
        "\n",
        "-    In Python, data structures are built-in ways to organize and store data efficiently.\n",
        "\n",
        "-    Examples: list, tuple, dict, set.\n",
        "\n",
        "2. Difference between mutable and immutable data types?\n",
        "\n",
        "-    Mutable: Can be changed after creation. Example: list, dict, set.\n",
        "\n",
        "     Immutable: Cannot be changed after creation. Example: str, tuple, int.\n",
        "\n",
        "3. Main differences between Lists and Tuples in Python?\n",
        "\n",
        "-    Syntax: Lists are written with square brackets [ ], while tuples are written with parentheses ( ).\n",
        "\n",
        "-    Mutability: Lists are mutable (can be changed after creation), but tuples are immutable (cannot be changed).\n",
        "\n",
        "4. How dictionaries store data?\n",
        "-    Python dictionaries store data as key-value pairs.\n",
        "\n",
        "-    Keys are unique and hashable, and values can be anything.\n",
        "\n",
        "5. Why use a set instead of a list in Python?\n",
        "\n",
        "-    Automatically removes duplicates.\n",
        "\n",
        "  -  Best when order doesn’t matter.\n",
        "\n",
        "6. What is a string in Python, and how is it different from a list?\n",
        "\n",
        "-    A string is a sequence of characters, immutable.\n",
        "\n",
        "-    A list is a sequence of elements, mutable.\n",
        "\n",
        "-    Strings can’t be modified in-place, lists can.\n",
        "\n",
        "7. How tuples ensure data integrity in Python?\n",
        "\n",
        "-    Tuples are immutable, so values cannot be changed once set.\n",
        "\n",
        "-    This ensures that data remains constant and secure.\n",
        "\n",
        "8. What is a hash table, and its relation to dictionaries?\n",
        "\n",
        "-    A hash table stores data in memory using a hash function for indexing.\n",
        "\n",
        "\n",
        "9. Can lists contain different data types in Python?\n",
        "\n",
        "-    Yes, Python lists can hold mixed data types like integers, strings, objects, or even lists.\n",
        "\n",
        "10. Why strings are immutable in Python?\n",
        "\n",
        "-   For performance optimization and hashability.\n",
        "\n",
        "-   Immutability ensures safe sharing of string objects without accidental changes.\n",
        "\n",
        "11. Advantages of dictionaries over lists?\n",
        "\n",
        "\n",
        "-   Easier to map unique keys to values instead of searching by index.\n",
        "\n",
        "12. When to use a tuple instead of a list?\n",
        "\n",
        "-   When you need fixed, constant data that should not change.\n",
        "\n",
        "-   Example: coordinates, configuration settings, database keys.\n",
        "\n",
        "13. How sets handle duplicate values?\n",
        "\n",
        "-   Python sets automatically remove duplicates because they store unique elements only.\n",
        "\n",
        "14. How the in keyword works differently for lists and dictionaries?\n",
        "\n",
        "-   For a list, in checks if a value exists.\n",
        "\n",
        "-   For a dictionary, in checks if a key exists, not a value.\n",
        "\n",
        "15. Can you modify elements of a tuple? Why or why not?\n",
        "\n",
        "-   No, tuples are immutable.\n",
        "\n",
        "-   Once created, their elements cannot be changed, added, or removed.\n",
        "\n",
        "16. What is a nested dictionary, and example use case?\n",
        "\n",
        "-   A dictionary inside another dictionary.\n",
        "\n",
        "-   Useful for representing hierarchical data (like student records or JSON data).\n",
        "\n",
        "17. Time complexity of accessing elements in a dictionary?\n",
        "\n",
        "-   Average: O(1) (fast, due to hashing).\n",
        "\n",
        "-   Worst case: O(n) (if hash collisions happen, but rare).\n",
        "\n",
        "18. When are lists preferred over dictionaries?\n",
        "\n",
        "-   When order matters or when you just need sequential data storage.\n",
        "\n",
        "-   Lists are better for index-based iteration.\n",
        "\n",
        "19. Why dictionaries are considered unordered?\n",
        "\n",
        "-   Conceptually unordered because access is key-based, not index-based.\n",
        "\n",
        "20. Difference between a List and a Dictionary in terms of data retrieval:\n",
        "\n",
        "-   A list stores elements in an ordered sequence and retrieves them using an index (e.g., lst[0]).\n",
        "\n",
        "-   A dictionary stores data as key-value pairs and retrieves values using a key (e.g., dict[\"key\"]).\n",
        "\n",
        "-   Lists are best when you want to access elements by position.\n",
        "\n",
        "-   Dictionaries are best when you want to access data using a meaningful label (key)."
      ],
      "metadata": {
        "id": "qAy8p_aDTlSc"
      }
    },
    {
      "cell_type": "code",
      "source": [
        "# 1. Write a code to create a string with your name and print it?\n",
        "str = input(\"Enter your name: \")\n",
        "print(str)"
      ],
      "metadata": {
        "colab": {
          "base_uri": "https://localhost:8080/"
        },
        "id": "YhNsxsGwck1j",
        "outputId": "136e9caa-9424-4b23-f634-1ced5bf1da0b"
      },
      "execution_count": null,
      "outputs": [
        {
          "output_type": "stream",
          "name": "stdout",
          "text": [
            "Enter your name: yogesh\n",
            "yogesh\n"
          ]
        }
      ]
    },
    {
      "cell_type": "code",
      "source": [
        "# 2. Write a code to find the length of the string \"Hello World\"?\n",
        "str = \"hello world\"\n",
        "print(len(str))"
      ],
      "metadata": {
        "colab": {
          "base_uri": "https://localhost:8080/"
        },
        "id": "PU-w5vnGdAyJ",
        "outputId": "9f34db2f-1928-4527-8768-f6b6bc0332a1"
      },
      "execution_count": null,
      "outputs": [
        {
          "output_type": "stream",
          "name": "stdout",
          "text": [
            "11\n"
          ]
        }
      ]
    },
    {
      "cell_type": "code",
      "source": [
        "# 3. Write a code to slice the first 3 characters from the string \"Python Programming\"?\n",
        "str = \"Python Programming\"\n",
        "print(str[:3])"
      ],
      "metadata": {
        "colab": {
          "base_uri": "https://localhost:8080/"
        },
        "id": "0uBgVbLcda0A",
        "outputId": "f68e8c8f-7d94-406d-9260-5f0bde89a42d"
      },
      "execution_count": null,
      "outputs": [
        {
          "output_type": "stream",
          "name": "stdout",
          "text": [
            "Pyt\n"
          ]
        }
      ]
    },
    {
      "cell_type": "code",
      "source": [
        "# 4. Write a code to convert the string \"hello\" to uppercase?\n",
        "str = \"hello\"\n",
        "print(str.upper())"
      ],
      "metadata": {
        "colab": {
          "base_uri": "https://localhost:8080/"
        },
        "id": "kqZpvpRPeP7r",
        "outputId": "fe84888d-e5d7-49b6-9913-859f3784df82"
      },
      "execution_count": null,
      "outputs": [
        {
          "output_type": "stream",
          "name": "stdout",
          "text": [
            "HELLO\n"
          ]
        }
      ]
    },
    {
      "cell_type": "code",
      "source": [
        "# 5. Write a code to replace the word \"apple\" with \"orange\" in the string \"I like apple\"?\n",
        "str = \"I like apple\"\n",
        "print(str.replace(\"apple\",\"orange\"))"
      ],
      "metadata": {
        "colab": {
          "base_uri": "https://localhost:8080/"
        },
        "id": "y588Qf-Lejl0",
        "outputId": "53f406b9-b2f0-4fd9-d558-7966d5e8d79d"
      },
      "execution_count": null,
      "outputs": [
        {
          "output_type": "stream",
          "name": "stdout",
          "text": [
            "I like orange\n"
          ]
        }
      ]
    },
    {
      "cell_type": "code",
      "source": [
        "# 6.  Write a code to create a list with numbers 1 to 5 and print it?\n",
        "for i in range(1,6):\n",
        "    print(i)\n"
      ],
      "metadata": {
        "colab": {
          "base_uri": "https://localhost:8080/"
        },
        "id": "ThmfeUyee6x1",
        "outputId": "367c2a42-b686-4080-bf18-71fc29ef9b3e"
      },
      "execution_count": null,
      "outputs": [
        {
          "output_type": "stream",
          "name": "stdout",
          "text": [
            "1\n",
            "2\n",
            "3\n",
            "4\n",
            "5\n"
          ]
        }
      ]
    },
    {
      "cell_type": "code",
      "source": [
        "# 7.  Write a code to append the number 10 to the list [1, 2, 3, 4]?\n",
        "list = [1,2,3,4]\n",
        "list.append(10)\n",
        "print(list)"
      ],
      "metadata": {
        "colab": {
          "base_uri": "https://localhost:8080/"
        },
        "id": "jfuKdpn7fNvw",
        "outputId": "1ed6a145-8c7d-470b-c9a4-b11dd586e2f3"
      },
      "execution_count": null,
      "outputs": [
        {
          "output_type": "stream",
          "name": "stdout",
          "text": [
            "[1, 2, 3, 4, 10]\n"
          ]
        }
      ]
    },
    {
      "cell_type": "code",
      "source": [
        "# 8. Write a code to remove the number 3 from the list [1, 2, 3, 4, 5]?\n",
        "list = [1,2,3,4,5]\n",
        "list.remove(3)\n",
        "print(list)"
      ],
      "metadata": {
        "colab": {
          "base_uri": "https://localhost:8080/"
        },
        "id": "sH-_ulf6fiky",
        "outputId": "bde8f076-8155-44c8-fa46-d57014d03040"
      },
      "execution_count": null,
      "outputs": [
        {
          "output_type": "stream",
          "name": "stdout",
          "text": [
            "[1, 2, 4, 5]\n"
          ]
        }
      ]
    },
    {
      "cell_type": "code",
      "source": [
        "# 9. Write a code to access the second element in the list ['a', 'b', 'c', 'd']?\n",
        "list = ['a','b','c','d']\n",
        "print(list[1])\n"
      ],
      "metadata": {
        "colab": {
          "base_uri": "https://localhost:8080/"
        },
        "id": "mPkMm_pfgMR2",
        "outputId": "7af1c257-238d-4f96-c77e-e6e2ae062a9e"
      },
      "execution_count": null,
      "outputs": [
        {
          "output_type": "stream",
          "name": "stdout",
          "text": [
            "b\n"
          ]
        }
      ]
    },
    {
      "cell_type": "code",
      "source": [
        "# 10. Write a code to reverse the list [10, 20, 30, 40, 50].?\n",
        "list = [10,20,30,40,50]\n",
        "print(list[::-1])"
      ],
      "metadata": {
        "colab": {
          "base_uri": "https://localhost:8080/"
        },
        "id": "7MriZrsOgul7",
        "outputId": "796ab375-cb4b-40cd-cfeb-f7373e238551"
      },
      "execution_count": null,
      "outputs": [
        {
          "output_type": "stream",
          "name": "stdout",
          "text": [
            "[50, 40, 30, 20, 10]\n"
          ]
        }
      ]
    },
    {
      "cell_type": "code",
      "source": [
        "# 11. Write a code to create a tuple with the elements 100, 200, 300 and print it.?\n",
        "tup = (100,200,300)\n",
        "print(type(tup))\n",
        "print(tup)\n"
      ],
      "metadata": {
        "colab": {
          "base_uri": "https://localhost:8080/"
        },
        "id": "6SDlYhOyhDr7",
        "outputId": "562764fe-3867-4a82-c8ec-7356ee99623e"
      },
      "execution_count": null,
      "outputs": [
        {
          "output_type": "stream",
          "name": "stdout",
          "text": [
            "<class 'tuple'>\n",
            "(100, 200, 300)\n"
          ]
        }
      ]
    },
    {
      "cell_type": "code",
      "source": [
        "# 12. Write a code to access the second-to-last element of the tuple ('red', 'green', 'blue', 'yellow')?\n",
        "tuple = ('red','green','blue','yellow')\n",
        "print(tuple[1:] )"
      ],
      "metadata": {
        "colab": {
          "base_uri": "https://localhost:8080/"
        },
        "id": "IG_H34KKhgR1",
        "outputId": "581b2d2b-c303-4b7e-a5ad-8b09d2f8756c"
      },
      "execution_count": null,
      "outputs": [
        {
          "output_type": "stream",
          "name": "stdout",
          "text": [
            "('green', 'blue', 'yellow')\n"
          ]
        }
      ]
    },
    {
      "cell_type": "code",
      "source": [
        "# 13. Write a code to find the minimum number in the tuple (10, 20, 5, 15).?\n",
        "tuple = (10,20,5,15)\n",
        "print(min(tuple))\n"
      ],
      "metadata": {
        "colab": {
          "base_uri": "https://localhost:8080/"
        },
        "id": "tu2AFtyFiBcz",
        "outputId": "7ea9a7c7-4c97-4e93-d904-f89055e04a0a"
      },
      "execution_count": null,
      "outputs": [
        {
          "output_type": "stream",
          "name": "stdout",
          "text": [
            "5\n"
          ]
        }
      ]
    },
    {
      "cell_type": "code",
      "source": [
        "# 14. Write a code to find the index of the element \"cat\" in the tuple ('dog', 'cat', 'rabbit').?\n",
        "animals = ('dog','cat','rabbit')\n",
        "print(animals.index(\"cat\"))"
      ],
      "metadata": {
        "colab": {
          "base_uri": "https://localhost:8080/"
        },
        "id": "lI8L96Ozj0IS",
        "outputId": "03077708-5185-45c7-eca9-220851dda91d"
      },
      "execution_count": null,
      "outputs": [
        {
          "output_type": "stream",
          "name": "stdout",
          "text": [
            "1\n"
          ]
        }
      ]
    },
    {
      "cell_type": "code",
      "source": [
        "# 15. Write a code to create a tuple containing three different fruits and check if \"kiwi\" is in it.?\n",
        "fruits = ('apple','orange','banana')\n",
        "if \"kiwi\" in fruits :\n",
        "    print(\"kiwi is presnt\")\n",
        "else :\n",
        "    print(\"kiwi is not present\")\n",
        "\n"
      ],
      "metadata": {
        "colab": {
          "base_uri": "https://localhost:8080/"
        },
        "id": "Pq_327nTkp49",
        "outputId": "205b42ec-fc2e-466c-9dba-6bc649af8364"
      },
      "execution_count": null,
      "outputs": [
        {
          "output_type": "stream",
          "name": "stdout",
          "text": [
            "kiwi is not present\n"
          ]
        }
      ]
    },
    {
      "cell_type": "code",
      "source": [
        "# 16. Write a code to create a set with the elements 'a', 'b', 'c' and print it.?\n",
        "set = {'a','b','c'}\n",
        "print(set)\n",
        "print(type(set))\n"
      ],
      "metadata": {
        "colab": {
          "base_uri": "https://localhost:8080/"
        },
        "id": "jTSBvwCOmDbm",
        "outputId": "ed9d4ce2-7c85-4372-f25e-0db4d63b2ab6"
      },
      "execution_count": null,
      "outputs": [
        {
          "output_type": "stream",
          "name": "stdout",
          "text": [
            "{'c', 'a', 'b'}\n",
            "<class 'set'>\n"
          ]
        }
      ]
    },
    {
      "cell_type": "code",
      "source": [
        "# 17. Write a code to clear all elements from the set {1, 2, 3, 4, 5}.?\n",
        "set = {1,2,3,4,5}\n",
        "print(set)\n",
        "print(set.clear())"
      ],
      "metadata": {
        "colab": {
          "base_uri": "https://localhost:8080/"
        },
        "id": "4xx1feO7tUDA",
        "outputId": "6fc541de-4ec8-469d-e86a-e66e3bd088b1"
      },
      "execution_count": null,
      "outputs": [
        {
          "output_type": "stream",
          "name": "stdout",
          "text": [
            "{1, 2, 3, 4, 5}\n",
            "None\n"
          ]
        }
      ]
    },
    {
      "cell_type": "code",
      "source": [
        "# 18. Write a code to remove the element 4 from the set {1, 2, 3, 4}.?\n",
        "set = {1,2,3,4}\n",
        "print(set.remove(4))\n",
        "print(set)"
      ],
      "metadata": {
        "colab": {
          "base_uri": "https://localhost:8080/"
        },
        "id": "OSlM0bmvt1mg",
        "outputId": "f9370e7d-1fb2-4824-995f-7233119acbda"
      },
      "execution_count": null,
      "outputs": [
        {
          "output_type": "stream",
          "name": "stdout",
          "text": [
            "None\n",
            "{1, 2, 3}\n"
          ]
        }
      ]
    },
    {
      "cell_type": "code",
      "source": [
        "# 19. Write a code to find the union of two sets {1, 2, 3} and {3, 4, 5}.?\n",
        "set1 = {1,2,3}\n",
        "set2 = {3,4,5}\n",
        "unionset = set1.union(set2)\n",
        "print(unionset)"
      ],
      "metadata": {
        "colab": {
          "base_uri": "https://localhost:8080/"
        },
        "id": "y8Mwi2a9upL3",
        "outputId": "e1906f9e-65c6-4823-c50c-fd5aa20d0bda"
      },
      "execution_count": null,
      "outputs": [
        {
          "output_type": "stream",
          "name": "stdout",
          "text": [
            "{1, 2, 3, 4, 5}\n"
          ]
        }
      ]
    },
    {
      "cell_type": "code",
      "source": [
        "# 20. Write a code to find the intersection of two sets {1, 2, 3} and {2, 3, 4}.?\n",
        "set1 = {1,2,3}\n",
        "set2 = {2,3,4}\n",
        "intersectionset = set1.intersection(set2)\n",
        "print(intersectionset)"
      ],
      "metadata": {
        "colab": {
          "base_uri": "https://localhost:8080/"
        },
        "id": "cY2o9-aYvifg",
        "outputId": "c98d5bdc-86f9-41ed-dee2-5e39959d3789"
      },
      "execution_count": null,
      "outputs": [
        {
          "output_type": "stream",
          "name": "stdout",
          "text": [
            "{2, 3}\n"
          ]
        }
      ]
    },
    {
      "cell_type": "code",
      "source": [
        "# 21. Write a code to create a dictionary with the keys \"name\", \"age\", and \"city\", and print it.?\n",
        "dictionary = {\"name\" :\"yogesh shinde\",\"age\": 20, \"city\" : \"kopargaon\"}\n",
        "print(dictionary)"
      ],
      "metadata": {
        "colab": {
          "base_uri": "https://localhost:8080/"
        },
        "id": "K45utfbvwB9U",
        "outputId": "808f3473-b20b-46ef-f66e-33ba5aaa7f67"
      },
      "execution_count": null,
      "outputs": [
        {
          "output_type": "stream",
          "name": "stdout",
          "text": [
            "{'name': 'yogesh shinde', 'age': 20, 'city': 'kopargaon'}\n"
          ]
        }
      ]
    },
    {
      "cell_type": "code",
      "source": [
        "# 22. Write a code to add a new key-value pair \"country\": \"USA\" to the dictionary {'name': 'John', 'age': 25}.?\n",
        "dict = {\"name\" : \"john\" , \"age\" : 25}\n",
        "dict[\"country\"] = \"USA\"\n",
        "print(dict)"
      ],
      "metadata": {
        "colab": {
          "base_uri": "https://localhost:8080/"
        },
        "id": "qEOabItSxRLX",
        "outputId": "71461450-fed5-4f13-eaaa-af5fc541f1ce"
      },
      "execution_count": null,
      "outputs": [
        {
          "output_type": "stream",
          "name": "stdout",
          "text": [
            "{'name': 'john', 'age': 25, 'country': 'USA'}\n"
          ]
        }
      ]
    },
    {
      "cell_type": "code",
      "source": [
        "# 23. Write a code to access the value associated with the key \"name\" in the dictionary {'name': 'Alice', 'age': 30}.?\n",
        "dict = {\"name\" : \"alice\" , \"age\" : 30}\n",
        "print(dict[\"name\"])"
      ],
      "metadata": {
        "colab": {
          "base_uri": "https://localhost:8080/"
        },
        "id": "O-8nOm8UynlP",
        "outputId": "0ad6bc41-49c9-447e-8c66-24784a599dbb"
      },
      "execution_count": null,
      "outputs": [
        {
          "output_type": "stream",
          "name": "stdout",
          "text": [
            "alice\n"
          ]
        }
      ]
    },
    {
      "cell_type": "code",
      "source": [
        "# 24. Write a code to remove the key \"age\" from the dictionary {'name': 'Bob', 'age': 22, 'city': 'New York'}.?\n",
        "dict = {\"name\" : \"Bob\", \"age\":22, \"city\":\"New York\"}\n",
        "dict.pop(\"age\")\n",
        "print(dict)"
      ],
      "metadata": {
        "colab": {
          "base_uri": "https://localhost:8080/"
        },
        "id": "vy4IcIXJzH27",
        "outputId": "a2b841a4-4d32-4db2-ee75-531a27ac2beb"
      },
      "execution_count": null,
      "outputs": [
        {
          "output_type": "stream",
          "name": "stdout",
          "text": [
            "{'name': 'Bob', 'city': 'New York'}\n"
          ]
        }
      ]
    },
    {
      "cell_type": "code",
      "source": [
        "# 25. Write a code to check if the key \"city\" exists in the dictionary {'name': 'Alice', 'city': 'Paris'}.?\n",
        "dict = {\"name\":\"Alice\" , \"City\" : \"Paris\"}\n",
        "\n",
        "if \"City\" in dict :\n",
        "  print(\"city exists\")\n",
        "else:\n",
        "  print(\"city does not exits\")"
      ],
      "metadata": {
        "colab": {
          "base_uri": "https://localhost:8080/"
        },
        "id": "hXmSVHVAz8qZ",
        "outputId": "a0c53aa2-8ff5-4264-b1f0-bf06013e7e85"
      },
      "execution_count": null,
      "outputs": [
        {
          "output_type": "stream",
          "name": "stdout",
          "text": [
            "city exists\n"
          ]
        }
      ]
    },
    {
      "cell_type": "code",
      "source": [
        "# 26. Write a code to create a list, a tuple, and a dictionary, and print them all.?\n",
        "list = [1,2,3,4,5]\n",
        "tuple = (77,88,99,100)\n",
        "dict = {\"name\":\"yogesh\", \"age\": 45, \"city\" : \"kopargaon\"}\n",
        "print(list)\n",
        "print(tuple)\n",
        "print(dict)"
      ],
      "metadata": {
        "colab": {
          "base_uri": "https://localhost:8080/"
        },
        "id": "TqmNjz5_06KD",
        "outputId": "8af7f489-7db9-4a7d-dc9b-fb94eb452b1f"
      },
      "execution_count": null,
      "outputs": [
        {
          "output_type": "stream",
          "name": "stdout",
          "text": [
            "[1, 2, 3, 4, 5]\n",
            "(77, 88, 99, 100)\n",
            "{'name': 'yogesh', 'age': 45, 'city': 'kopargaon'}\n"
          ]
        }
      ]
    },
    {
      "cell_type": "code",
      "source": [
        "# 27. Write a code to create a list of 5 random numbers between 1 and 100, sort it in ascending order, and print the\n",
        "#result.(replaced)?\n",
        "list = [34,56,78,65,67,55]\n",
        "list.sort()\n",
        "print(list)"
      ],
      "metadata": {
        "colab": {
          "base_uri": "https://localhost:8080/"
        },
        "id": "11cny_bOBNBF",
        "outputId": "dd17db4e-75d3-4b4f-aca4-fe24f84b8798"
      },
      "execution_count": null,
      "outputs": [
        {
          "output_type": "stream",
          "name": "stdout",
          "text": [
            "[34, 55, 56, 65, 67, 78]\n"
          ]
        }
      ]
    },
    {
      "cell_type": "code",
      "source": [
        "# 28. Write a code to create a list with strings and print the element at the third index.?\n",
        "list = [\"apple\",\"orange\",\"banana\",\"grapes\",\"chickoo\"]\n",
        "print(list[3])"
      ],
      "metadata": {
        "colab": {
          "base_uri": "https://localhost:8080/"
        },
        "id": "YGSbIHEjBsrj",
        "outputId": "1524807c-0b03-4997-f152-a92a6b991c2c"
      },
      "execution_count": null,
      "outputs": [
        {
          "output_type": "stream",
          "name": "stdout",
          "text": [
            "grapes\n"
          ]
        }
      ]
    },
    {
      "cell_type": "code",
      "source": [
        "# 29. Write a code to combine two dictionaries into one and print the result.?\n",
        "dict1 = {\"name\":\"yogesh\", \"age\":20}\n",
        "dict2 = {\"city\":\"kopargaon\", \"gender\":\"male\"}\n",
        "combine = {**dict1,**dict2}\n",
        "print(combine)"
      ],
      "metadata": {
        "id": "gKK8TmaOCiVp",
        "colab": {
          "base_uri": "https://localhost:8080/"
        },
        "outputId": "d1549b76-1ee8-4df2-a1b6-0e30c53fd5ad"
      },
      "execution_count": 45,
      "outputs": [
        {
          "output_type": "stream",
          "name": "stdout",
          "text": [
            "{'name': 'yogesh', 'age': 20, 'city': 'kopargaon', 'gender': 'male'}\n"
          ]
        }
      ]
    },
    {
      "cell_type": "code",
      "source": [
        "# 30. Write a code to convert a list of strings into a set.?\n",
        "fruits = [\"orange\", \"apple\", \"banana\"]\n",
        "fruit_set = set(fruits)\n",
        "print(fruit_set)\n",
        "\n",
        "\n"
      ],
      "metadata": {
        "id": "HTDlgOpZDpM5",
        "colab": {
          "base_uri": "https://localhost:8080/",
          "height": 211
        },
        "outputId": "3ca6bf16-72bc-465a-9d60-9415a803e3c6"
      },
      "execution_count": 54,
      "outputs": [
        {
          "output_type": "error",
          "ename": "TypeError",
          "evalue": "'set' object is not callable",
          "traceback": [
            "\u001b[0;31m---------------------------------------------------------------------------\u001b[0m",
            "\u001b[0;31mTypeError\u001b[0m                                 Traceback (most recent call last)",
            "\u001b[0;32m/tmp/ipython-input-2550765156.py\u001b[0m in \u001b[0;36m<cell line: 0>\u001b[0;34m()\u001b[0m\n\u001b[1;32m      1\u001b[0m \u001b[0;31m# 30. Write a code to convert a list of strings into a set.?\u001b[0m\u001b[0;34m\u001b[0m\u001b[0;34m\u001b[0m\u001b[0m\n\u001b[1;32m      2\u001b[0m \u001b[0mfruits\u001b[0m \u001b[0;34m=\u001b[0m \u001b[0;34m[\u001b[0m\u001b[0;34m\"orange\"\u001b[0m\u001b[0;34m,\u001b[0m \u001b[0;34m\"apple\"\u001b[0m\u001b[0;34m,\u001b[0m \u001b[0;34m\"banana\"\u001b[0m\u001b[0;34m]\u001b[0m\u001b[0;34m\u001b[0m\u001b[0;34m\u001b[0m\u001b[0m\n\u001b[0;32m----> 3\u001b[0;31m \u001b[0mfruit_set\u001b[0m \u001b[0;34m=\u001b[0m \u001b[0mset\u001b[0m\u001b[0;34m(\u001b[0m\u001b[0mfruits\u001b[0m\u001b[0;34m)\u001b[0m\u001b[0;34m\u001b[0m\u001b[0;34m\u001b[0m\u001b[0m\n\u001b[0m\u001b[1;32m      4\u001b[0m \u001b[0mprint\u001b[0m\u001b[0;34m(\u001b[0m\u001b[0mfruit_set\u001b[0m\u001b[0;34m)\u001b[0m\u001b[0;34m\u001b[0m\u001b[0;34m\u001b[0m\u001b[0m\n\u001b[1;32m      5\u001b[0m \u001b[0;34m\u001b[0m\u001b[0m\n",
            "\u001b[0;31mTypeError\u001b[0m: 'set' object is not callable"
          ]
        }
      ]
    }
  ]
}