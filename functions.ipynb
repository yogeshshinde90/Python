{
  "nbformat": 4,
  "nbformat_minor": 0,
  "metadata": {
    "colab": {
      "provenance": []
    },
    "kernelspec": {
      "name": "python3",
      "display_name": "Python 3"
    },
    "language_info": {
      "name": "python"
    }
  },
  "cells": [
    {
      "cell_type": "markdown",
      "source": [
        "1. What is the difference between a function and a method in Python?\n",
        "\n",
        "-   Function: Independent block of code, not tied to an object.\n",
        "\n",
        "-   Method: Function defined inside a class, works on objects."
      ],
      "metadata": {
        "id": "mbvlfo7CigAN"
      }
    },
    {
      "cell_type": "code",
      "source": [
        "def add(a,b) :\n",
        "  return a+b      #function\n",
        "\n",
        "\n",
        "class Multi :\n",
        "  def multiply(self,x,y) :    #method\n",
        "     return x*y\n",
        "\n",
        "\n",
        "print(add(3,4))\n",
        "print(Multi().multiply(3,4))\n"
      ],
      "metadata": {
        "colab": {
          "base_uri": "https://localhost:8080/"
        },
        "id": "DSOYQ83Firan",
        "outputId": "579bdc67-d13b-4c47-ae9c-0cf10c8a21d7"
      },
      "execution_count": null,
      "outputs": [
        {
          "output_type": "stream",
          "name": "stdout",
          "text": [
            "7\n",
            "12\n"
          ]
        }
      ]
    },
    {
      "cell_type": "markdown",
      "source": [
        "2. Explain the concept of function arguments and parameters in Python.\n",
        "\n",
        "-  Parameters: Variables defined in function (placeholders).\n",
        "\n",
        "-  Arguments: Actual values passed when calling the function."
      ],
      "metadata": {
        "id": "uUTMN1oRkEOq"
      }
    },
    {
      "cell_type": "code",
      "source": [
        "def greet(name) :         #parameter = \"name\"\n",
        "  print(\"hello\", name)\n",
        "\n",
        "greet(\"yogesh\")          #argument = \"yogesh\""
      ],
      "metadata": {
        "colab": {
          "base_uri": "https://localhost:8080/"
        },
        "id": "i1hedwp2k0qw",
        "outputId": "15a6ac8b-9d9c-47e3-9e20-ed4a00e74e7a"
      },
      "execution_count": null,
      "outputs": [
        {
          "output_type": "stream",
          "name": "stdout",
          "text": [
            "hello yogesh\n"
          ]
        }
      ]
    },
    {
      "cell_type": "markdown",
      "source": [
        "3. What are the different ways to define and call a function in Python?\n",
        "\n",
        "\n",
        "-  Normal function\n",
        "\n",
        "-  With default arguments\n",
        "\n",
        "-  With keyword arguments\n",
        "\n",
        "-  With *args and **kwargs\n",
        "\n",
        "-  Lambda function"
      ],
      "metadata": {
        "id": "9u5PN2c6heUq"
      }
    },
    {
      "cell_type": "code",
      "source": [
        "def add(a, b=5):        # default argument\n",
        "    return a + b\n",
        "\n",
        "print(add(3))           # 8\n",
        "print(add(3, 7))        # 10\n"
      ],
      "metadata": {
        "colab": {
          "base_uri": "https://localhost:8080/"
        },
        "id": "OxgHajDvhqZ1",
        "outputId": "04d670c6-acc7-4b2d-bf50-48da146c6aec"
      },
      "execution_count": null,
      "outputs": [
        {
          "output_type": "stream",
          "name": "stdout",
          "text": [
            "8\n",
            "10\n"
          ]
        }
      ]
    },
    {
      "cell_type": "markdown",
      "source": [
        "4. What is the purpose of the return statement in a Python function?\n",
        "-  Sends back a value from function to caller.\n",
        "\n",
        "-  Without return, function returns None."
      ],
      "metadata": {
        "id": "i2ZBt-msh20C"
      }
    },
    {
      "cell_type": "code",
      "source": [
        "def square(n):\n",
        "    return n * n\n",
        "\n",
        "print(square(4))   # 16\n"
      ],
      "metadata": {
        "colab": {
          "base_uri": "https://localhost:8080/"
        },
        "id": "70xrCcrAkTEP",
        "outputId": "c22da070-66a2-4dea-a16d-606c8cf1fdbb"
      },
      "execution_count": null,
      "outputs": [
        {
          "output_type": "stream",
          "name": "stdout",
          "text": [
            "16\n"
          ]
        }
      ]
    },
    {
      "cell_type": "markdown",
      "source": [
        "5.  What are iterators in Python and how do they differ from iterables?\n",
        "\n",
        "-  Iterable: Object that can be looped over (list, tuple, string).\n",
        "\n",
        "-  Iterator: Object with __next__() to fetch items one by one."
      ],
      "metadata": {
        "id": "CMV0GMiVkZBl"
      }
    },
    {
      "cell_type": "code",
      "source": [
        "nums = [1, 2, 3]        # iterable\n",
        "it = iter(nums)         # iterator\n",
        "print(next(it))         # 1\n",
        "print(next(it))         # 2\n"
      ],
      "metadata": {
        "id": "UWvqzlAWnC5p"
      },
      "execution_count": null,
      "outputs": []
    },
    {
      "cell_type": "markdown",
      "source": [
        "6. Explain the concept of generators in Python and how they are defined.\n",
        "\n",
        "-  Special function using yield to return values one by one.\n",
        "\n",
        "-  They generate values lazily (on demand)."
      ],
      "metadata": {
        "id": "5XvCS7UKnPl2"
      }
    },
    {
      "cell_type": "code",
      "source": [
        "def gen_nums():\n",
        "    for i in range(3):\n",
        "        yield i\n",
        "\n",
        "for n in gen_nums():\n",
        "    print(n)   # 0,1,2\n"
      ],
      "metadata": {
        "id": "I--TqxcwnTCx"
      },
      "execution_count": null,
      "outputs": []
    },
    {
      "cell_type": "markdown",
      "source": [
        "7.  What are the advantages of using generators over regular functions?\n",
        "\n",
        "-  Memory efficient (don’t store all values in memory).\n",
        "\n",
        "-  Generate values on demand."
      ],
      "metadata": {
        "id": "0YYV7MfSnXkH"
      }
    },
    {
      "cell_type": "markdown",
      "source": [
        "8. What is a lambda function in Python and when is it typically used?\n",
        "\n",
        "-  Small anonymous function using lambda keyword.\n",
        "\n",
        "-  Used for short operations."
      ],
      "metadata": {
        "id": "wUR7Fsv9nroh"
      }
    },
    {
      "cell_type": "code",
      "source": [
        "square = lambda x: x * x\n",
        "print(square(5))   # 25\n"
      ],
      "metadata": {
        "id": "1zRxJKfvnu4n"
      },
      "execution_count": null,
      "outputs": []
    },
    {
      "cell_type": "markdown",
      "source": [
        "9.  Explain the purpose and usage of the map() function in Python.\n",
        "\n",
        "-  Applies a function to each element of iterable."
      ],
      "metadata": {
        "id": "A5aEe8B4oD3C"
      }
    },
    {
      "cell_type": "code",
      "source": [
        "nums = [1, 2, 3]\n",
        "squares = list(map(lambda x: x**2, nums))\n",
        "print(squares)   # [1, 4, 9]\n"
      ],
      "metadata": {
        "id": "pgQmlrcZoKoD"
      },
      "execution_count": null,
      "outputs": []
    },
    {
      "cell_type": "markdown",
      "source": [
        "10.  What is the difference between `map()`, `reduce()`, and `filter()` functions in Python?\n",
        "\n",
        "-  map() → Applies function to all elements.\n",
        "\n",
        "-  filter() → Keeps only elements that satisfy condition.\n",
        "\n",
        "-  reduce() → Reduces iterable to single value (requires functools)."
      ],
      "metadata": {
        "id": "V-dPgHMJomPp"
      }
    },
    {
      "cell_type": "markdown",
      "source": [
        "11. Using pen & Paper write the internal mechanism for sum operation using  reduce function on this given\n",
        "-  list:[47,11,42,13];\n",
        "\n",
        "-  List = [47, 11, 42, 13]\n",
        "\n",
        "-  Step 1:\n",
        "   Take first two elements → 47 , 11\n",
        "\n",
        "   47 + 11 = 58\n",
        "\n",
        "-  Step 2:\n",
        "   Take result (58) and next element (42)\n",
        "\n",
        "   58 + 42 = 100\n",
        "\n",
        "-  Step 3:\n",
        "   Take result (100) and next element (13)\n",
        "   \n",
        "   100 + 13 = 113\n",
        "\n",
        "-  Final Answer = 113\n"
      ],
      "metadata": {
        "id": "ZrY4MHOcdg7T"
      }
    },
    {
      "cell_type": "code",
      "source": [
        "# 1. Write a Python function that takes a list of numbers as input and returns the sum of all even numbers in\n",
        "# the list.\n",
        "\n",
        "def sumofevennum(num) :\n",
        "  total = 0\n",
        "  for n in num :\n",
        "    if n % 2 == 0 :\n",
        "      total += n\n",
        "  return total\n",
        "\n",
        "nums = list(map(int,input(\"Enter the numbers seperated by space\").split()))\n",
        "print(\"Sum of even numbers: \", sumofevennum(nums))\n"
      ],
      "metadata": {
        "colab": {
          "base_uri": "https://localhost:8080/"
        },
        "id": "f1qvEPgDgNE9",
        "outputId": "4e26b7e3-1770-4392-bf9c-37122e74d238"
      },
      "execution_count": null,
      "outputs": [
        {
          "output_type": "stream",
          "name": "stdout",
          "text": [
            "Enter the numbers seperated by space56 78 98 67 89\n",
            "Sum of even numbers:  232\n"
          ]
        }
      ]
    },
    {
      "cell_type": "code",
      "source": [
        "#2. Create a Python function that accepts a string and returns the reverse of that string.\n",
        "def reversestr(str):\n",
        " return str[::-1]\n",
        "print(reversestr(\"yogesh\"))"
      ],
      "metadata": {
        "colab": {
          "base_uri": "https://localhost:8080/"
        },
        "id": "Lgspzz-foc0l",
        "outputId": "aa099fd7-6f3a-4fcc-efc2-c805e5156414"
      },
      "execution_count": null,
      "outputs": [
        {
          "output_type": "stream",
          "name": "stdout",
          "text": [
            "hsegoy\n"
          ]
        }
      ]
    },
    {
      "cell_type": "code",
      "source": [
        "#3. Implement a Python function that takes a list of integers and returns a new list containing the squares of\n",
        "#each number.\n",
        "\n",
        "nums = list(map(int,input(\"Enters the numbers seperated by space : \").split()))\n",
        "def squareofnum(nums) :\n",
        " for n in nums :\n",
        "  print(n**2)\n",
        "\n",
        "\n",
        "squareofnum(nums)"
      ],
      "metadata": {
        "colab": {
          "base_uri": "https://localhost:8080/"
        },
        "id": "vsy7dupVsDNN",
        "outputId": "c0daf18f-807e-404f-9bd4-446bb32066ad"
      },
      "execution_count": null,
      "outputs": [
        {
          "output_type": "stream",
          "name": "stdout",
          "text": [
            "Enters the numbers seperated by space : 2 3 4 5 6\n",
            "4\n",
            "9\n",
            "16\n",
            "25\n",
            "36\n"
          ]
        }
      ]
    },
    {
      "cell_type": "code",
      "source": [
        "# 4. Write a Python function that checks if a given number is prime or not from 1 to 200.\n",
        "num = int(input(\"enter the number :\"))\n",
        "\n",
        "def checkprime(num):\n",
        "  for i in range(2,num) :\n",
        "    if num % i == 0 :\n",
        "      print(\"number is not prime\")\n",
        "    else :\n",
        "      print(\"number is prime\")\n",
        "    return\n",
        "\n",
        "checkprime(num)"
      ],
      "metadata": {
        "colab": {
          "base_uri": "https://localhost:8080/"
        },
        "id": "w4guglAjwXkt",
        "outputId": "3f7ceaa5-f515-4150-fe2d-6eccf27150a8"
      },
      "execution_count": null,
      "outputs": [
        {
          "output_type": "stream",
          "name": "stdout",
          "text": [
            "enter the number :23\n",
            "number is prime\n"
          ]
        }
      ]
    },
    {
      "cell_type": "code",
      "source": [
        "#5. Create an iterator class in Python that generates the Fibonacci sequence up to a specified number of\n",
        "#terms.\n",
        "\n",
        "class FibonacciIterator:\n",
        "    def __init__(self, terms):\n",
        "        self.terms = terms\n",
        "        self.a, self.b = 0, 1\n",
        "        self.count = 0\n",
        "\n",
        "    def __iter__(self):\n",
        "        return self\n",
        "\n",
        "    def __next__(self):\n",
        "        if self.count < self.terms:\n",
        "            value = self.a\n",
        "            self.a, self.b = self.b, self.a + self.b\n",
        "            self.count += 1\n",
        "            return value\n",
        "        else:\n",
        "            raise StopIteration\n",
        "\n",
        "# Example\n",
        "for num in FibonacciIterator(10):\n",
        "    print(num, end=\" \")\n",
        "\n",
        "\n"
      ],
      "metadata": {
        "colab": {
          "base_uri": "https://localhost:8080/"
        },
        "id": "miSAhSKPElg3",
        "outputId": "f4521ffe-bc2c-4e14-f58a-6b4573b7f1f6"
      },
      "execution_count": null,
      "outputs": [
        {
          "output_type": "stream",
          "name": "stdout",
          "text": [
            "0 1 1 2 3 5 8 13 21 34 "
          ]
        }
      ]
    },
    {
      "cell_type": "code",
      "source": [
        "#6. Write a generator function in Python that yields the powers of 2 up to a given exponent.\n",
        "def powers_of_two(n):\n",
        "    for i in range(n+1):\n",
        "        yield 2 ** i\n",
        "\n",
        "for value in powers_of_two(5):\n",
        "    print(value)\n"
      ],
      "metadata": {
        "colab": {
          "base_uri": "https://localhost:8080/"
        },
        "id": "Q389YTnSfp4G",
        "outputId": "c86aa706-5dc3-4586-9e61-e0b1e6e7df1d"
      },
      "execution_count": null,
      "outputs": [
        {
          "output_type": "stream",
          "name": "stdout",
          "text": [
            "1\n",
            "2\n",
            "4\n",
            "8\n",
            "16\n",
            "32\n"
          ]
        }
      ]
    },
    {
      "cell_type": "code",
      "source": [
        "#7. Implement a generator function that reads a file line by line and yields each line as a string.\n",
        "def read_file(filename):\n",
        "    with open(filename, \"r\") as file:\n",
        "        for line in file:\n",
        "            yield line.strip()"
      ],
      "metadata": {
        "id": "XGdYvrC-f_-o"
      },
      "execution_count": null,
      "outputs": []
    },
    {
      "cell_type": "code",
      "source": [
        "#8. Use a lambda function in Python to sort a list of tuples based on the second element of each tuple.\n",
        "data = [(1, 4), (2, 1), (3, 3), (4, 2)]\n",
        "sorted_data = sorted(data, key=lambda x: x[1])\n",
        "print(sorted_data)\n"
      ],
      "metadata": {
        "colab": {
          "base_uri": "https://localhost:8080/"
        },
        "id": "39TlYwx9gSYq",
        "outputId": "c5843ad9-47be-4a60-81f5-26219feed329"
      },
      "execution_count": null,
      "outputs": [
        {
          "output_type": "stream",
          "name": "stdout",
          "text": [
            "[(2, 1), (4, 2), (3, 3), (1, 4)]\n"
          ]
        }
      ]
    },
    {
      "cell_type": "code",
      "source": [
        "#9. Write a Python program that uses `map()` to convert a list of temperatures from Celsius to Fahrenheit.\n",
        "celsius = [0, 20, 30, 40]\n",
        "fahrenheit = list(map(lambda c: (c * 9/5) + 32, celsius))\n",
        "print(fahrenheit)\n"
      ],
      "metadata": {
        "colab": {
          "base_uri": "https://localhost:8080/"
        },
        "id": "G5mNqUDtg2H2",
        "outputId": "87797b09-9354-406e-8a87-ff80adabbad2"
      },
      "execution_count": 39,
      "outputs": [
        {
          "output_type": "stream",
          "name": "stdout",
          "text": [
            "[32.0, 68.0, 86.0, 104.0]\n"
          ]
        }
      ]
    },
    {
      "cell_type": "code",
      "source": [
        "#10. Create a Python program that uses `filter()` to remove all the vowels from a given string.\n",
        "def remove_vowels(s):\n",
        "    vowels = \"aeiouAEIOU\"\n",
        "    return \"\".join(filter(lambda ch: ch not in vowels, s))\n",
        "\n",
        "print(remove_vowels(\"Hello World\"))\n"
      ],
      "metadata": {
        "colab": {
          "base_uri": "https://localhost:8080/"
        },
        "id": "nKhHR-TwhRBv",
        "outputId": "7c44ede1-de0d-4e86-82f2-c1a650ab06a9"
      },
      "execution_count": 41,
      "outputs": [
        {
          "output_type": "stream",
          "name": "stdout",
          "text": [
            "Hll Wrld\n"
          ]
        }
      ]
    },
    {
      "cell_type": "code",
      "source": [
        "# 11.  Imagine an accounting routine used in a book shop. It works on a list with sublists, which look like this:\n",
        "# Write a Python program, which returns a list with 2-tuples. Each tuple consists of the order number and the\n",
        "# product of the price per item and the quantity. The product should be increased by 10,- € if the value of the\n",
        "# order is smaller than 100,00 €.\n",
        "# Write a Python program using lambda and map.\n",
        "\n",
        "orders = [\n",
        "    [34587, \"Learning Python, Mark Lutz\", 4, 40.95],\n",
        "    [98762, \"Programming Python, Mark Lutz\", 5, 56.80],\n",
        "    [77226, \"Head First Python, Paul Barry\", 3, 32.95],\n",
        "    [88112, \"Einführung in Python3, Bernd Klein\", 3, 24.99]\n",
        "]\n",
        "\n",
        "result = list(map(lambda order:\n",
        "                  (order[0], order[2] * order[3] if order[2] * order[3] >= 100 else order[2] * order[3] + 10),\n",
        "                  orders))\n",
        "\n",
        "print(result)\n"
      ],
      "metadata": {
        "colab": {
          "base_uri": "https://localhost:8080/"
        },
        "id": "el2fkc4BimiO",
        "outputId": "af700c11-0bb4-4423-f9b8-cf072e7fb563"
      },
      "execution_count": 40,
      "outputs": [
        {
          "output_type": "stream",
          "name": "stdout",
          "text": [
            "[(34587, 163.8), (98762, 284.0), (77226, 108.85000000000001), (88112, 84.97)]\n"
          ]
        }
      ]
    }
  ]
}