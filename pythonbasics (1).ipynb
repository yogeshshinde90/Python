{
  "nbformat": 4,
  "nbformat_minor": 0,
  "metadata": {
    "colab": {
      "provenance": []
    },
    "kernelspec": {
      "name": "python3",
      "display_name": "Python 3"
    },
    "language_info": {
      "name": "python"
    }
  },
  "cells": [
    {
      "cell_type": "code",
      "execution_count": null,
      "metadata": {
        "id": "noO9_1Wmf_jq"
      },
      "outputs": [],
      "source": []
    },
    {
      "cell_type": "markdown",
      "source": [
        "#python basics"
      ],
      "metadata": {
        "id": "eE-nFdyGBUUY"
      }
    },
    {
      "cell_type": "markdown",
      "source": [
        "1. what is python, and why it is popular?\n",
        "   -   python is a high-level, interpreted programming language that is known for easy to read and write.\n",
        "    It's popular because\n",
        "     its easy to learn,\n",
        "     huge community support,\n",
        "     large library ecosystem,\n",
        "     cross-platform,\n",
        "     high demand jobs\n",
        "\n",
        "2. What is an interpreter in Python?\n",
        "   -   An interpreter in python is a program that reads and execute your python code line by line.\n",
        "\n",
        "3. what are pre-defined keywords in python?\n",
        "   -   keywords are resurved words in python with special meaning.\n",
        "    they cannot be used as identifier.\n",
        "\n",
        "4. Can keywords be used as variable names?\n",
        "   -   No, keywords cannot be used as variable names.\n",
        "    using them would cause syntax errors.\n",
        "\n",
        "5. What is mutability in Python?\n",
        "\n",
        "    -  Mutability means whether an object’s value can be changed after creation.\n",
        "    Mutable objects can be changed (e.g., lists, dictionaries).\n",
        "    Immutable objects cannot be changed (e.g., tuples, strings).\n",
        "\n",
        "6. Why are lists mutable, but tuples are immutable?\n",
        "\n",
        "   -   Lists allow modifications: adding, removing, or updating elements.\n",
        "    Tuples are fixed once created, so their values cannot change.\n",
        "\n",
        "7. What is the difference between == and is operators in Python?\n",
        "\n",
        "   -   ==  checks if values are equal.\n",
        "    is checks if two variables point to the same object in memory.\n",
        "\n",
        "8. What are logical operators in Python?\n",
        "\n",
        "    -  Logical operators combine conditions:\n",
        "    and: True if both conditions are True.\n",
        "    or: True if at least one condition is True.\n",
        "    not: Reverses the Boolean value.\n",
        "\n",
        "9. What is type casting in Python?\n",
        "\n",
        "    -  Type casting is converting a variable from one data type to another.\n",
        "    Examples:\n",
        "    int(\"5\") → 5\n",
        "    str(10) → \"10\"\n",
        "\n",
        "10. What is the difference between implicit and explicit type casting?\n",
        "\n",
        "    -  Implicit casting: Python automatically converts data types (e.g., int to float).\n",
        "\n",
        "       Explicit casting: Programmer manually converts data types using functions like int(), float(), str().\n",
        "\n",
        "11. What is the purpose of conditional statements in Python?\n",
        "\n",
        "   -  Conditional statements control program flow based on conditions.\n",
        "    They help execute different code blocks for different situations (e.g., if, elif, else).\n",
        "\n",
        "12. How does the elif statement work?\n",
        "\n",
        "    -  elif means else if.\n",
        "    It checks multiple conditions after an if statement.\n",
        "    It only runs the block if its condition is True.\n",
        "\n",
        "13. What is the difference between for and while loops?\n",
        "\n",
        "    -  A for loop runs for a fixed number of iterations (over a sequence or range).\n",
        "    A while loop runs until a condition becomes False.\n",
        "\n",
        "14. Describe a scenario where a while loop is more suitable than a for loop.\n",
        "\n",
        "    -  Use a while loop when the number of iterations is unknown in advance.\n",
        "    Example: Keep asking the user for input until they type \"exit\".\n",
        "\n",
        "\n",
        "\n",
        "    "
      ],
      "metadata": {
        "id": "IxLD-G9RBovm"
      }
    },
    {
      "cell_type": "code",
      "source": [
        "\n",
        "#1. Write a python program to print\"Hello world\"\n",
        "\n",
        "print(\"hello world\")"
      ],
      "metadata": {
        "colab": {
          "base_uri": "https://localhost:8080/"
        },
        "id": "iOxDBZMhHa86",
        "outputId": "5bafab17-9048-46eb-9b76-51bece1c9b68"
      },
      "execution_count": null,
      "outputs": [
        {
          "output_type": "stream",
          "name": "stdout",
          "text": [
            "hello world\n"
          ]
        }
      ]
    },
    {
      "cell_type": "code",
      "source": [
        "#2. Write a python program that displays your name and age\n",
        "name = \"yogesh shinde\"\n",
        "age = 20\n",
        "print(\"my name is\",name,\"and my age is\",age)"
      ],
      "metadata": {
        "colab": {
          "base_uri": "https://localhost:8080/"
        },
        "id": "heGUMh8DIh1k",
        "outputId": "48cb2097-16de-476f-b2bc-fb04595611a8"
      },
      "execution_count": null,
      "outputs": [
        {
          "output_type": "stream",
          "name": "stdout",
          "text": [
            "my name is yogesh shinde and my age is 20\n"
          ]
        }
      ]
    },
    {
      "cell_type": "code",
      "source": [
        "#3. write code to print all the pre-defined keywords in python using the keyword library?\n",
        "import keyword\n",
        "print(\"Python Keywords are:\")\n",
        "print(keyword.kwlist)\n"
      ],
      "metadata": {
        "colab": {
          "base_uri": "https://localhost:8080/"
        },
        "id": "ZQVGWHRmmogg",
        "outputId": "9103b0ce-015e-4209-b86d-2929f879b332"
      },
      "execution_count": null,
      "outputs": [
        {
          "output_type": "stream",
          "name": "stdout",
          "text": [
            "Python Keywords are:\n",
            "['False', 'None', 'True', 'and', 'as', 'assert', 'async', 'await', 'break', 'class', 'continue', 'def', 'del', 'elif', 'else', 'except', 'finally', 'for', 'from', 'global', 'if', 'import', 'in', 'is', 'lambda', 'nonlocal', 'not', 'or', 'pass', 'raise', 'return', 'try', 'while', 'with', 'yield']\n"
          ]
        }
      ]
    },
    {
      "cell_type": "code",
      "source": [
        "#4. write the python program that checks if a given word is a python keyword?\n",
        "\n",
        "import keyword\n",
        "word = input(\"Enter the word\")\n",
        "if keyword.iskeyword(word) :\n",
        "    print(\"it is a python keyword\")\n",
        "else :\n",
        "\n",
        "    print(\"it is not the python keyword\")"
      ],
      "metadata": {
        "colab": {
          "base_uri": "https://localhost:8080/"
        },
        "id": "CJkZBxl5n4Xj",
        "outputId": "2eaf4e14-71ca-44d2-bc60-0146790c2dca"
      },
      "execution_count": null,
      "outputs": [
        {
          "output_type": "stream",
          "name": "stdout",
          "text": [
            "Enter the wordjhw\n",
            "it is not the python keyword\n"
          ]
        }
      ]
    },
    {
      "cell_type": "code",
      "source": [
        "#5. Create a list and tuple in Python, and demonstrate how attempting to change an element works differently for each?\n",
        "\n",
        "list = [10, 20, 30]\n",
        "tuple = (10, 20, 30)\n",
        "\n",
        "print(\"Original list:\", list)\n",
        "list[1] = 200\n",
        "print(\"Modified list:\", list)\n",
        "\n",
        "\n",
        "print(\"\\nOriginal tuple:\",tuple)\n",
        "try:\n",
        "    tuple[1] = 200\n",
        "except TypeError as e:\n",
        "    print(\"Error when modifying tuple:\", e)"
      ],
      "metadata": {
        "colab": {
          "base_uri": "https://localhost:8080/"
        },
        "id": "Ee7-oMIjpu83",
        "outputId": "36df8cbc-ec23-4680-eae7-a3a20b4ff839"
      },
      "execution_count": null,
      "outputs": [
        {
          "output_type": "stream",
          "name": "stdout",
          "text": [
            "Original list: [10, 20, 30]\n",
            "Modified list: [10, 200, 30]\n",
            "\n",
            "Original tuple: (10, 20, 30)\n",
            "Error when modifying tuple: 'tuple' object does not support item assignment\n"
          ]
        }
      ]
    },
    {
      "cell_type": "code",
      "source": [
        "#6. Write a function to demonstrate the behavior of mutable and immutable arguments.\n",
        "\n",
        "# Function to modify both a number (immutable) and a list (mutable)\n",
        "def modify(num, list):\n",
        "    print(\"\\nInside function:\")\n",
        "    num += 10\n",
        "    list.append(100)\n",
        "    print(\"num inside function:\", num)\n",
        "    print(\"list inside function:\", list)\n",
        "\n",
        "\n",
        "number = 50\n",
        "numbers_list = [1, 2, 3]\n",
        "\n",
        "print(\"Before function call:\")\n",
        "print(\"number:\", number)\n",
        "print(\"numbers_list:\", numbers_list)\n",
        "\n",
        "# Call the function\n",
        "modify(number, numbers_list)\n",
        "\n",
        "print(\"\\nAfter function call:\")\n",
        "print(\"number:\", number)          # Won't change\n",
        "print(\"numbers_list:\", numbers_list)  # Will change\n"
      ],
      "metadata": {
        "colab": {
          "base_uri": "https://localhost:8080/"
        },
        "id": "ioMmpvvtygKz",
        "outputId": "8867592c-a0e9-4eff-cac2-2ce62598113b"
      },
      "execution_count": null,
      "outputs": [
        {
          "output_type": "stream",
          "name": "stdout",
          "text": [
            "Before function call:\n",
            "number: 50\n",
            "numbers_list: [1, 2, 3]\n",
            "\n",
            "Inside function:\n",
            "num inside function: 60\n",
            "list inside function: [1, 2, 3, 100]\n",
            "\n",
            "After function call:\n",
            "number: 50\n",
            "numbers_list: [1, 2, 3, 100]\n"
          ]
        }
      ]
    },
    {
      "cell_type": "code",
      "source": [
        "#7. Write a program that performs basic arithmetic operations on two user-input numbers\n",
        "\n",
        "# Get numbers from user\n",
        "a = float(input(\"Enter first number: \"))\n",
        "b = float(input(\"Enter second number: \"))\n",
        "\n",
        "# Show menu\n",
        "print(\"\\nChoose an operation:\")\n",
        "print(\"1. Addition\")\n",
        "print(\"2. Subtraction\")\n",
        "print(\"3. Multiplication\")\n",
        "print(\"4. Division\")\n",
        "\n",
        "# Get choice\n",
        "choice = input(\"Enter your choice (1-4): \")\n",
        "\n",
        "# Perform operation based on choice\n",
        "if choice == \"1\":\n",
        "    print(\"Result:\", a + b)\n",
        "elif choice == \"2\":\n",
        "    print(\"Result:\", a - b)\n",
        "elif choice == \"3\":\n",
        "    print(\"Result:\", a * b)\n",
        "elif choice == \"4\":\n",
        "    if b != 0:\n",
        "        print(\"Result:\", a / b)\n",
        "    else:\n",
        "        print(\"Error: Cannot divide by zero\")\n",
        "else:\n",
        "    print(\"Invalid choice\")\n"
      ],
      "metadata": {
        "id": "CfLXaG9O1pAX",
        "colab": {
          "base_uri": "https://localhost:8080/"
        },
        "outputId": "5da41658-b56d-494d-d4e3-bebd27d592a4"
      },
      "execution_count": null,
      "outputs": [
        {
          "output_type": "stream",
          "name": "stdout",
          "text": [
            "Enter first number: 5\n",
            "Enter second number: 4\n",
            "\n",
            "Choose an operation:\n",
            "1. Addition\n",
            "2. Subtraction\n",
            "3. Multiplication\n",
            "4. Division\n",
            "Enter your choice (1-4): 3\n",
            "Result: 20.0\n"
          ]
        }
      ]
    },
    {
      "cell_type": "code",
      "source": [
        "# 8. Write a program to demonstrate the use of logical operators\n",
        "\n",
        "\n",
        "a = int(input(\"Enter first number: \"))\n",
        "b = int(input(\"Enter second number: \"))\n",
        "\n",
        "print(\"\\nResults of logical operations:\")\n",
        "\n",
        "\n",
        "print(\"a > 0 and b > 0:\", a > 0 and b > 0)\n",
        "print(\"a > 0 or b > 0:\", a > 0 or b > 0)\n",
        "print(\"not(a > 0):\", not(a > 0))\n"
      ],
      "metadata": {
        "colab": {
          "base_uri": "https://localhost:8080/"
        },
        "id": "xm2t92L9XJbf",
        "outputId": "0ad1b05d-a1d9-4ffe-963e-e180dadd7636"
      },
      "execution_count": null,
      "outputs": [
        {
          "output_type": "stream",
          "name": "stdout",
          "text": [
            "Enter first number: 34\n",
            "Enter second number: 45\n",
            "\n",
            "Results of logical operations:\n",
            "a > 0 and b > 0: True\n",
            "a > 0 or b > 0: True\n",
            "not(a > 0): False\n"
          ]
        }
      ]
    },
    {
      "cell_type": "code",
      "source": [
        "# 9. Write a Python program to convert user input from string to integer, float, and boolean types\n",
        "\n",
        "data = input(\"Enter a number: \")\n",
        "\n",
        "int_value = int(data)\n",
        "float_value = float(data)\n",
        "bool_value = bool(data)\n",
        "\n",
        "print(\"String:\", data)\n",
        "print(\"Integer:\", int_value)\n",
        "print(\"Float:\", float_value)\n",
        "print(\"Boolean:\", bool_value)\n",
        "\n"
      ],
      "metadata": {
        "colab": {
          "base_uri": "https://localhost:8080/"
        },
        "id": "p58JQdx-XrDB",
        "outputId": "284d88e2-794e-48ce-cf70-d857b571e6d6"
      },
      "execution_count": null,
      "outputs": [
        {
          "output_type": "stream",
          "name": "stdout",
          "text": [
            "Enter a number: 45\n",
            "String: 45\n",
            "Integer: 45\n",
            "Float: 45.0\n",
            "Boolean: True\n"
          ]
        }
      ]
    },
    {
      "cell_type": "code",
      "source": [
        "# 10. Write code to demonstrate type casting with list elements.\n",
        "\n",
        "numbers = [\"10\", \"20\", \"30\"]\n",
        "\n",
        "print(\"Original list:\", numbers)\n",
        "\n",
        "int_numbers = [int(x) for x in numbers]\n",
        "print(\"List with integers:\", int_numbers)\n",
        "\n",
        "float_numbers = [float(x) for x in numbers]\n",
        "print(\"List with floats:\", float_numbers)\n",
        "\n",
        "string_numbers = [str(x) for x in int_numbers]\n",
        "print(\"List with strings:\", string_numbers)\n"
      ],
      "metadata": {
        "colab": {
          "base_uri": "https://localhost:8080/"
        },
        "id": "IfPYdNYyiG_k",
        "outputId": "bcbc1708-bb5e-4cb1-bca7-1f0356be5878"
      },
      "execution_count": null,
      "outputs": [
        {
          "output_type": "stream",
          "name": "stdout",
          "text": [
            "Original list: ['10', '20', '30']\n",
            "List with integers: [10, 20, 30]\n",
            "List with floats: [10.0, 20.0, 30.0]\n",
            "List with strings: ['10', '20', '30']\n"
          ]
        }
      ]
    },
    {
      "cell_type": "code",
      "source": [
        "# 11. Write a program that checks if a number is positive, negative, or zero\n",
        "number = int(input(\"Enter the number :\"))\n",
        "if number == 0 :\n",
        "   print(\"the number is zero\")\n",
        "\n",
        "elif number > 0 :\n",
        "  print(\"number is positive number\")\n",
        "elif number < 0 :\n",
        "  print(\"number is negative number\")"
      ],
      "metadata": {
        "colab": {
          "base_uri": "https://localhost:8080/"
        },
        "id": "vQHicEAJiiuj",
        "outputId": "e907e351-99dc-44ed-efef-1c9eacf4638b"
      },
      "execution_count": null,
      "outputs": [
        {
          "output_type": "stream",
          "name": "stdout",
          "text": [
            "Enter the number :-2\n",
            "number is negative number\n"
          ]
        }
      ]
    },
    {
      "cell_type": "code",
      "source": [
        "# 12. Write a for loop to print numbers from 1 to 10.\n",
        "for i in range(1,11) :\n",
        "  print(i)"
      ],
      "metadata": {
        "colab": {
          "base_uri": "https://localhost:8080/"
        },
        "id": "Q4qbM96grjUD",
        "outputId": "6f204af5-7a00-47b4-a619-59d50686f76f"
      },
      "execution_count": null,
      "outputs": [
        {
          "output_type": "stream",
          "name": "stdout",
          "text": [
            "1\n",
            "2\n",
            "3\n",
            "4\n",
            "5\n",
            "6\n",
            "7\n",
            "8\n",
            "9\n",
            "10\n"
          ]
        }
      ]
    },
    {
      "cell_type": "code",
      "source": [
        "# 13. Write a Python program to find the sum of all even numbers between 1 and 50.\n",
        "sum = 0\n",
        "for i in range(1,51) :\n",
        "  if i % 2 == 0 :\n",
        "   sum += i\n",
        "   print(sum)\n",
        "print(\"so the sum is : \",sum)\n"
      ],
      "metadata": {
        "colab": {
          "base_uri": "https://localhost:8080/"
        },
        "id": "qoVdBejEr9aR",
        "outputId": "4113f178-9395-44ff-ab4b-53e11ff2ef9f"
      },
      "execution_count": null,
      "outputs": [
        {
          "output_type": "stream",
          "name": "stdout",
          "text": [
            "2\n",
            "6\n",
            "12\n",
            "20\n",
            "30\n",
            "42\n",
            "56\n",
            "72\n",
            "90\n",
            "110\n",
            "132\n",
            "156\n",
            "182\n",
            "210\n",
            "240\n",
            "272\n",
            "306\n",
            "342\n",
            "380\n",
            "420\n",
            "462\n",
            "506\n",
            "552\n",
            "600\n",
            "650\n",
            "so the sum is :  650\n"
          ]
        }
      ]
    },
    {
      "cell_type": "code",
      "source": [
        "# 14. Write a program to reverse a string using a while loop.\n",
        "\n",
        "\n",
        "text = input(\"Enter a string: \")\n",
        "\n",
        "reversed_text = \"\"\n",
        "index = len(text) - 1\n",
        "\n",
        "# Loop to reverse the string\n",
        "while index >= 0:\n",
        "    reversed_text += text[index]\n",
        "    index -= 1\n",
        "\n",
        "\n",
        "print(\"Reversed string:\", reversed_text)\n"
      ],
      "metadata": {
        "colab": {
          "base_uri": "https://localhost:8080/"
        },
        "id": "L-op-VX3x7R0",
        "outputId": "6e87c072-8780-4934-ace4-3a2ec896184a"
      },
      "execution_count": null,
      "outputs": [
        {
          "output_type": "stream",
          "name": "stdout",
          "text": [
            "Enter a string: yogesh\n",
            "Reversed string: hsegoy\n"
          ]
        }
      ]
    },
    {
      "cell_type": "code",
      "source": [
        "# 15. Write a Python program to calculate the factorial of a number provided by the user using a while loop.\n",
        "\n",
        "\n",
        "num = int(input(\"Enter a number: \"))\n",
        "fact = 1\n",
        "i = 1\n",
        "\n",
        "while i <= num:\n",
        "    fact = fact * i\n",
        "    i = i + 1\n",
        "\n",
        "print(\"Factorial:\", fact)\n",
        "\n"
      ],
      "metadata": {
        "colab": {
          "base_uri": "https://localhost:8080/"
        },
        "id": "YbUIT-wfz3DI",
        "outputId": "2402431f-ab00-4c66-e83d-4d20591256e5"
      },
      "execution_count": null,
      "outputs": [
        {
          "output_type": "stream",
          "name": "stdout",
          "text": [
            "Enter a number: 5\n",
            "Factorial: 120\n"
          ]
        }
      ]
    }
  ]
}