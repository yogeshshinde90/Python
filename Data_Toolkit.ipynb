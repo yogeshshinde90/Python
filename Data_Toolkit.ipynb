{
  "nbformat": 4,
  "nbformat_minor": 0,
  "metadata": {
    "colab": {
      "provenance": []
    },
    "kernelspec": {
      "name": "python3",
      "display_name": "Python 3"
    },
    "language_info": {
      "name": "python"
    }
  },
  "cells": [
    {
      "cell_type": "markdown",
      "source": [
        " 1 : What is the difference between multithreading and multiprocessing?\n",
        "\n",
        "-  1 : Multithreading → Multiple threads run inside one process.\n",
        "-  Multiprocessing → Multiple independent processes run separately.\n",
        "\n",
        "-  2️ : Multithreading → All threads share the same memory space.\n",
        "-  Multiprocessing → Each process has its own memory space.\n",
        "\n",
        "-  3 : Multithreading → Best for I/O-bound tasks (like file or network operations).\n",
        "-  Multiprocessing → Best for CPU-bound tasks (like heavy calculations).\n",
        "\n",
        "-  4️ : Multithreading → Affected by Global Interpreter Lock (GIL) — only one thread executes Python code at a time.\n",
        "-  Multiprocessing → Not affected by GIL, achieves true parallelism.\n",
        "\n",
        "-  5 : Multithreading → Threads share data easily but need locks to avoid race conditions.\n",
        "-  Multiprocessing → Processes use queues or pipes to communicate safely.\n",
        "\n",
        "2 : What are the challenges associated with memory management in Python?\n",
        "\n",
        "-   Circular References → When two or more objects reference each other, they may never get freed.\n",
        "\n",
        "-   Garbage Collector Overhead → The automatic cleanup can pause execution and affect performance.\n",
        "\n",
        "-   Memory Fragmentation → Long-running programs may waste memory due to scattered allocation.\n",
        "\n",
        "-   GIL Limitation → Limits how efficiently memory can be used across multiple threads.\n",
        "\n",
        "-   External Library Leaks → Extensions written in C (like NumPy) may cause memory leaks if not handled properly.\n",
        "\n",
        "-   Large Object Retention → Large lists or arrays stay in memory if references are not cleared manually."
      ],
      "metadata": {
        "id": "I2L7FH3tbo1O"
      }
    },
    {
      "cell_type": "code",
      "source": [
        "# 3 : Write a Python program that logs an error message to a log file when a\n",
        "# division by zero exception occurs.\n",
        "\n",
        "import logging\n",
        "\n",
        "logging.basicConfig(filename='error.log', level=logging.ERROR,\n",
        "                    format='%(asctime)s - %(levelname)s - %(message)s')\n",
        "\n",
        "try:\n",
        "    a = int(input(\"Enter numerator: \"))\n",
        "    b = int(input(\"Enter denominator: \"))\n",
        "    result = a / b\n",
        "    print(\"Result:\", result)\n",
        "\n",
        "except ZeroDivisionError:\n",
        "    logging.error(\"Division by zero occurred.\")\n",
        "    print(\"Error: Division by zero is not allowed. Check error.log file for details.\")\n"
      ],
      "metadata": {
        "id": "JMI4VE5Pdjrp",
        "outputId": "380b244e-c569-4b39-f4d9-195d955ae781",
        "colab": {
          "base_uri": "https://localhost:8080/"
        }
      },
      "execution_count": 28,
      "outputs": [
        {
          "output_type": "stream",
          "name": "stdout",
          "text": [
            "Enter numerator: 45\n",
            "Enter denominator: 7\n",
            "Result: 6.428571428571429\n"
          ]
        }
      ]
    },
    {
      "cell_type": "code",
      "source": [
        "#  4:Write a Python program that reads from one file and writes its content to\n",
        "# another file.\n",
        "try:\n",
        "    with open('source.txt', 'r') as src:\n",
        "        data = src.read()\n",
        "\n",
        "    with open('destination.txt', 'w') as dest:\n",
        "        dest.write(data)\n",
        "\n",
        "    print(\"File copied successfully!\")\n",
        "\n",
        "except FileNotFoundError:\n",
        "    print(\"Error: The source file was not found.\")\n"
      ],
      "metadata": {
        "id": "ZhOjS6_Gd_sS",
        "outputId": "7b3c5d36-85db-4ea7-a195-06d7aa15da28",
        "colab": {
          "base_uri": "https://localhost:8080/"
        }
      },
      "execution_count": 29,
      "outputs": [
        {
          "output_type": "stream",
          "name": "stdout",
          "text": [
            "Error: The source file was not found.\n"
          ]
        }
      ]
    },
    {
      "cell_type": "code",
      "source": [
        "#  5: Write a program that handles both IndexError and KeyError using a\n",
        "# try-except block.\n",
        "\n",
        "try:\n",
        "\n",
        "    numbers = [10, 20, 30]\n",
        "    data = {\"name\": \"Yogesh\", \"age\": 22}\n",
        "\n",
        "\n",
        "    print(numbers[5])\n",
        "    print(data[\"address\"])\n",
        "\n",
        "except IndexError:\n",
        "    print(\"Error: List index out of range!\")\n",
        "\n",
        "except KeyError:\n",
        "    print(\"Error: The specified key does not exist in the dictionary.\")\n"
      ],
      "metadata": {
        "id": "3Lj71NZ7en5l",
        "outputId": "e20f8d16-2a70-43d5-c2e3-ec7113446f9c",
        "colab": {
          "base_uri": "https://localhost:8080/"
        }
      },
      "execution_count": 31,
      "outputs": [
        {
          "output_type": "stream",
          "name": "stdout",
          "text": [
            "Error: List index out of range!\n"
          ]
        }
      ]
    },
    {
      "cell_type": "markdown",
      "source": [
        "  6: What are the differences between NumPy arrays and Python lists?\n",
        "\n",
        "-  1 : Storage Type:\n",
        "\n",
        "-  NumPy Array → Stores data of same type (homogeneous).\n",
        "\n",
        "-  Python List → Can store different data types (heterogeneous).\n",
        "\n",
        "-  2️ : Performance:\n",
        "\n",
        "-  NumPy Array → Faster because it uses optimized C libraries and fixed-type storage.\n",
        "\n",
        "-  Python List → Slower due to dynamic typing and object overhead.\n",
        "\n",
        "-  3️ : Memory Usage:\n",
        "\n",
        "-  NumPy Array → Uses less memory, stores data compactly.\n",
        "\n",
        "-  Python List → Uses more memory since each element is a separate Python object.\n",
        "\n",
        "-  4️ : Mathematical Operations:\n",
        "\n",
        "-  NumPy Array → Supports vectorized operations (e.g., a + b adds element-wise).\n",
        "\n",
        "-  Python List → Needs manual looping for arithmetic operations.\n",
        "\n",
        "-  5️  : Functionality:\n",
        "\n",
        "-  NumPy Array → Provides built-in mathematical and statistical functions.\n",
        "\n",
        "-  Python List → Only supports basic operations (append, remove, etc.).\n",
        "\n",
        "-  6️ : Dimensionality:\n",
        "\n",
        "-  NumPy Array → Can be multidimensional (2D, 3D arrays).\n",
        "\n",
        "-  Python List → Mainly 1D, nested lists needed for 2D or higher."
      ],
      "metadata": {
        "id": "q-N4FpoUfA3T"
      }
    },
    {
      "cell_type": "markdown",
      "source": [
        " 7 : Explain the difference between apply() and map() in Pandas.\n",
        "\n",
        "-  1️ : Basic Difference:\n",
        "\n",
        "-  map() → Used for applying a function element-wise to a Pandas Series (single column).\n",
        "\n",
        "-  apply() → Used for applying a function to rows or columns of a DataFrame or Series.\n",
        "\n",
        "-  2️ : Scope:\n",
        "\n",
        "-  map() → Works only on Series (one-dimensional).\n",
        "\n",
        "-  apply() → Works on both Series and DataFrame (one or two-dimensional).\n",
        "\n",
        "-  3️ : Usage:\n",
        "\n",
        "-  map() → For element-wise transformations.\n",
        "\n",
        "-  apply() → For row-wise (axis=1) or column-wise (axis=0) operations.\n",
        "\n",
        "- 4️ : Return Type:\n",
        "\n",
        "-  map() → Always returns a Series.\n",
        "\n",
        "-  apply() → Can return Series, DataFrame, or scalar, depending on the function.\n"
      ],
      "metadata": {
        "id": "GOlY-Y-Vf5kz"
      }
    },
    {
      "cell_type": "code",
      "source": [
        "# 8: Create a histogram using Seaborn to visualize a distribution.\n",
        "\n",
        "import seaborn as sns\n",
        "import matplotlib.pyplot as plt\n",
        "\n",
        "\n",
        "data = [12, 15, 20, 21, 22, 23, 25, 25, 26, 28, 29, 30, 32, 35, 36, 38, 40]\n",
        "\n",
        "sns.histplot(data, bins=8, kde=True, color='skyblue')\n",
        "\n",
        "plt.title(\"Distribution of Data\")\n",
        "plt.xlabel(\"Values\")\n",
        "plt.ylabel(\"Frequency\")\n",
        "\n",
        "plt.show()\n"
      ],
      "metadata": {
        "id": "4SKOGDiGgdGB",
        "outputId": "df5901d2-7d7d-4591-c211-e9a88657319c",
        "colab": {
          "base_uri": "https://localhost:8080/",
          "height": 472
        }
      },
      "execution_count": 32,
      "outputs": [
        {
          "output_type": "display_data",
          "data": {
            "text/plain": [
              "<Figure size 640x480 with 1 Axes>"
            ],
            "image/png": "[encoded data removed]"
          },
          "metadata": {}
        }
      ]
    },
    {
      "cell_type": "code",
      "source": [
        "# 9: Use Pandas to load a CSV file and display its first 5 rows.\n",
        "\n",
        "import pandas as pd\n",
        "df = pd.read_csv('/content/sample_data/mnist_train_small.csv')\n",
        "\n",
        "\n",
        "print(df.head())\n"
      ],
      "metadata": {
        "id": "SyJXsA1Tgx_5",
        "outputId": "9cdcc89e-ec47-4ba5-91d7-3604fae781bd",
        "colab": {
          "base_uri": "https://localhost:8080/"
        }
      },
      "execution_count": 34,
      "outputs": [
        {
          "output_type": "stream",
          "name": "stdout",
          "text": [
            "   6  0  0.1  0.2  0.3  0.4  0.5  0.6  0.7  0.8  ...  0.581  0.582  0.583  \\\n",
            "0  5  0    0    0    0    0    0    0    0    0  ...      0      0      0   \n",
            "1  7  0    0    0    0    0    0    0    0    0  ...      0      0      0   \n",
            "2  9  0    0    0    0    0    0    0    0    0  ...      0      0      0   \n",
            "3  5  0    0    0    0    0    0    0    0    0  ...      0      0      0   \n",
            "4  2  0    0    0    0    0    0    0    0    0  ...      0      0      0   \n",
            "\n",
            "   0.584  0.585  0.586  0.587  0.588  0.589  0.590  \n",
            "0      0      0      0      0      0      0      0  \n",
            "1      0      0      0      0      0      0      0  \n",
            "2      0      0      0      0      0      0      0  \n",
            "3      0      0      0      0      0      0      0  \n",
            "4      0      0      0      0      0      0      0  \n",
            "\n",
            "[5 rows x 785 columns]\n"
          ]
        }
      ]
    },
    {
      "cell_type": "code",
      "source": [
        "#10: Calculate the correlation matrix using Seaborn and visualize it with a\n",
        "#heatmap.\n",
        "\n",
        "import pandas as pd\n",
        "import seaborn as sns\n",
        "import matplotlib.pyplot as plt\n",
        "\n",
        "\n",
        "data = {\n",
        "    'A': [1, 2, 3, 4, 5],\n",
        "    'B': [5, 4, 3, 2, 1],\n",
        "    'C': [2, 3, 4, 5, 6],\n",
        "    'D': [5, 3, 2, 4, 1]\n",
        "}\n",
        "\n",
        "\n",
        "df = pd.DataFrame(data)\n",
        "\n",
        "\n",
        "corr_matrix = df.corr()\n",
        "\n",
        "sns.heatmap(corr_matrix, annot=True, cmap='coolwarm')\n",
        "\n",
        "plt.title(\"Correlation Heatmap\")\n",
        "plt.show()\n",
        "\n"
      ],
      "metadata": {
        "id": "DnOBasLVhIkn",
        "outputId": "325a2710-2758-40a8-9c75-74dc97ef97f9",
        "colab": {
          "base_uri": "https://localhost:8080/",
          "height": 452
        }
      },
      "execution_count": 35,
      "outputs": [
        {
          "output_type": "display_data",
          "data": {
            "text/plain": [
              "<Figure size 640x480 with 2 Axes>"
            ],
            "image/png": "[encoded data removed]"
          },
          "metadata": {}
        }
      ]
    }
  ]
}