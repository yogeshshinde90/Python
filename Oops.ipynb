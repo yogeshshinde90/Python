{
  "nbformat": 4,
  "nbformat_minor": 0,
  "metadata": {
    "colab": {
      "provenance": []
    },
    "kernelspec": {
      "name": "python3",
      "display_name": "Python 3"
    },
    "language_info": {
      "name": "python"
    }
  },
  "cells": [
    {
      "cell_type": "markdown",
      "source": [
        "1️.  What is Object-Oriented Programming (OOP)?\n",
        "\n",
        "-  OOP is a programming approach that uses objects and classes to structure code, focusing on real-world entities, data, and operations.\n",
        "\n",
        "2️. What is a class in OOP?\n",
        "\n",
        "-  A class is a blueprint or template for creating objects that defines their attributes and behaviors.\n",
        "\n",
        "3️. What is an object in OOP?\n",
        "\n",
        "-  An object is an instance of a class that represents a specific entity with defined properties and methods.\n",
        "\n",
        "4️. Difference between abstraction and encapsulation\n",
        "\n",
        "-  Abstraction hides internal details and shows only essential features.\n",
        "\n",
        "-  Encapsulation binds data and methods together and restricts direct access to data.\n",
        "\n",
        "5️. What are dunder methods in Python?\n",
        "\n",
        "-  Dunder (double underscore) methods are special predefined methods used for operator overloading and built-in behaviors, like __init__, __str__, etc.\n",
        "\n",
        "6️. Explain the concept of inheritance in OOP\n",
        "\n",
        "-  Inheritance allows one class to derive or inherit the properties and methods of another class to promote code reusability.\n",
        "\n",
        "7️. What is polymorphism in OOP?\n",
        "\n",
        "Polymorphism means the same function or method name can behave differently depending on the object that calls it.\n",
        "\n",
        "8️. How is encapsulation achieved in Python?\n",
        "\n",
        "-  Encapsulation is achieved using private or protected variables and by controlling data access through getter and setter methods.\n",
        "\n",
        "9️. What is a constructor in Python?\n",
        "\n",
        "-  A constructor is a special method (__init__) that initializes the object’s state when it is created.\n",
        "\n",
        "10. What are class and static methods in Python?\n",
        "\n",
        "-  Class methods use the @classmethod decorator and work with class variables.\n",
        "\n",
        "-  Static methods use the @staticmethod decorator and do not depend on class or instance data.\n",
        "\n",
        "11️.  What is method overloading in Python?\n",
        "\n",
        "-  Method overloading means defining multiple methods with the same name but different parameters.\n",
        "Python supports it indirectly using default arguments.\n",
        "\n",
        "12️. What is method overriding in OOP?\n",
        "\n",
        "-  Method overriding occurs when a child class redefines a method from its parent class to change or extend its behavior.\n",
        "\n",
        "13️. What is a property decorator in Python?\n",
        "\n",
        "-  A property decorator (@property) is used to access methods like attributes, mainly for creating getters and setters in an elegant way.\n",
        "\n",
        "14️. Why is polymorphism important in OOP?\n",
        "\n",
        "-  Polymorphism makes code flexible and reusable, allowing the same interface to handle different object types efficiently.\n",
        "\n",
        "15️. What is an abstract class in Python?\n",
        "\n",
        "-  An abstract class contains one or more abstract methods and cannot be instantiated directly.\n",
        "It is used to define a common interface for all subclasses.\n",
        "\n",
        "16️. What are the advantages of OOP?\n",
        "\n",
        "-  Code reusability\n",
        "\n",
        "-  Data security through encapsulation\n",
        "\n",
        "-  Easier maintenance and debugging\n",
        "\n",
        "-  Real-world modeling\n",
        "\n",
        "-  Extensibility through inheritance\n",
        "\n",
        "17️. Difference between class variable and instance variable\n",
        "\n",
        "-  Class variable: Shared among all instances of a class.\n",
        "\n",
        "-  Instance variable: Unique for each object of the class.\n",
        "\n",
        "18️. What is multiple inheritance in Python?\n",
        "\n",
        "-  Multiple inheritance allows a class to inherit from more than one parent class at the same time.\n",
        "\n",
        "19️. Purpose of __str__ and __repr__ methods\n",
        "\n",
        "-  __str__ gives a user-friendly representation of an object.\n",
        "\n",
        "-  __repr__ gives a developer-oriented representation of an object.\n",
        "\n",
        "20️ Significance of super() function\n",
        "\n",
        "-  super() is used to call methods of the parent class, commonly used to access the parent constructor or overridden methods.\n",
        "\n",
        "21️. Significance of __del__ method in Python\n",
        "\n",
        "-  __del__ is a destructor method that is automatically called when an object is deleted or goes out of scope to free resources.\n",
        "\n",
        "22. What is the difference between @staticmethod and @classmethod in Python\n",
        "\n",
        "-  A static method does not take any default first argument and cannot access class or instance variables.\n",
        "-  A class method takes cls as its first argument and can access or modify class-level data.\n",
        "-  Static methods are used for utility functions, while class methods are used for operations related to the class itself.\n",
        "\n",
        "2️3. How does polymorphism work in Python with inheritance\n",
        "\n",
        "-  In inheritance, polymorphism allows a child class to redefine a method that already exists in the parent class.\n",
        "-  When a method is called on an object, Python automatically decides which version of the method to execute based on the object’s class.\n",
        "-  This allows the same function name to behave differently for different types of objects.\n",
        "\n",
        "24. What is method chaining in Python OOP\n",
        "\n",
        "-  Method chaining is a technique where multiple methods are called one after another in a single statement.\n",
        "-  Each method returns the object itself, which allows the next method to be called immediately.\n",
        "-  It improves code readability and makes the code look cleaner and more concise.\n",
        "\n",
        "25. What is the purpose of the __call__ method in Python\n",
        "\n",
        "-  The __call__ method allows an object to be called like a normal function.\n",
        "-  When this method is defined inside a class, it lets the instance behave as a callable object.\n",
        "-  It is mainly used to implement custom callable behaviors or to make objects act like functions.\n"
      ],
      "metadata": {
        "id": "pW5dfZAPYeB4"
      }
    },
    {
      "cell_type": "code",
      "source": [
        "#1. Create a parent class Animal with a method speak() that prints a generic message. Create a child class Dog\n",
        "#that overrides the speak() method to print \"Bark!\".\n",
        "\n",
        "class Animal :\n",
        "  def speak() :\n",
        "    print(\"I am an animal\")\n",
        "\n",
        "class Dog(Animal) :\n",
        "  def speak() :\n",
        "   print(\"Bark!\")\n",
        "\n",
        "dog1 = Dog.speak()"
      ],
      "metadata": {
        "colab": {
          "base_uri": "https://localhost:8080/"
        },
        "id": "MNCISBwiJtBI",
        "outputId": "8f31ec34-63fe-47a0-a6ef-316bacf0bfb2"
      },
      "execution_count": null,
      "outputs": [
        {
          "output_type": "stream",
          "name": "stdout",
          "text": [
            "Bark!\n"
          ]
        }
      ]
    },
    {
      "cell_type": "code",
      "source": [
        "# 2. Write a program to create an abstract class Shape with a method area(). Derive classes Circle and Rectangle\n",
        "# from it and implement the area() method in both.\n",
        "\n",
        "from abc import ABC, abstractmethod\n",
        "\n",
        "class Shape(ABC):\n",
        "    @abstractmethod\n",
        "    def area(self):\n",
        "        pass\n",
        "\n",
        "# Derived class: Circle\n",
        "class Circle(Shape):\n",
        "    def __init__(self, radius):\n",
        "        self.radius = radius\n",
        "\n",
        "    def area(self):\n",
        "        return 3.14 * self.radius * self.radius\n",
        "\n",
        "# Derived class: Rectangle\n",
        "class Rectangle(Shape):\n",
        "    def __init__(self, length, width):\n",
        "        self.length = length\n",
        "        self.width = width\n",
        "\n",
        "    def area(self):\n",
        "        return self.length * self.width\n",
        "\n",
        "# Creating objects and displaying areas\n",
        "circle = Circle(5)\n",
        "rectangle = Rectangle(4, 6)\n",
        "\n",
        "print(\"Area of Circle:\", circle.area())\n",
        "print(\"Area of Rectangle:\", rectangle.area())\n",
        "\n",
        "\n"
      ],
      "metadata": {
        "colab": {
          "base_uri": "https://localhost:8080/"
        },
        "id": "gRNLB7MNK28z",
        "outputId": "3bf8f464-fdad-4a62-f897-2f19c1191bf8"
      },
      "execution_count": null,
      "outputs": [
        {
          "output_type": "stream",
          "name": "stdout",
          "text": [
            "Area of Circle: 78.5\n",
            "Area of Rectangle: 24\n"
          ]
        }
      ]
    },
    {
      "cell_type": "code",
      "source": [
        "# 3. Implement a multi-level inheritance scenario where a class Vehicle has an attribute type. Derive a class Car\n",
        "# and further derive a class ElectricCar that adds a battery attribute.\n",
        "\n",
        "\n",
        "class Vehicle:\n",
        "    def __init__(self, v_type):\n",
        "        self.v_type = v_type\n",
        "\n",
        "class Car(Vehicle):\n",
        "    def __init__(self, v_type, brand):\n",
        "        super().__init__(v_type)\n",
        "        self.brand = brand\n",
        "\n",
        "class ElectricCar(Car):\n",
        "    def __init__(self, v_type, brand, battery):\n",
        "        super().__init__(v_type, brand)\n",
        "        self.battery = battery\n",
        "\n",
        "e = ElectricCar(\"Four Wheeler\", \"Tesla\", \"100 kWh\")\n",
        "print(\"Type:\", e.v_type)\n",
        "print(\"Brand:\", e.brand)\n",
        "print(\"Battery:\", e.battery)\n"
      ],
      "metadata": {
        "colab": {
          "base_uri": "https://localhost:8080/"
        },
        "id": "5lPv2YAY4Zcp",
        "outputId": "8e2f688b-305b-44d6-d730-3744eb0e65df"
      },
      "execution_count": null,
      "outputs": [
        {
          "output_type": "stream",
          "name": "stdout",
          "text": [
            "Type: Four Wheeler\n",
            "Brand: Tesla\n",
            "Battery: 100 kWh\n"
          ]
        }
      ]
    },
    {
      "cell_type": "code",
      "source": [
        "# 4. Demonstrate polymorphism by creating a base class Bird with a method fly(). Create two derived classes\n",
        "# Sparrow and Penguin that override the fly() method.\n",
        "\n",
        "\n",
        "class Bird:\n",
        "    def fly(self):\n",
        "        print(\"Birds can fly\")\n",
        "\n",
        "class Sparrow(Bird):\n",
        "    def fly(self):\n",
        "        print(\"Sparrow flies high\")\n",
        "\n",
        "class Penguin(Bird):\n",
        "    def fly(self):\n",
        "        print(\"Penguins cannot fly\")\n",
        "\n",
        "b1 = Sparrow()\n",
        "b2 = Penguin()\n",
        "b1.fly()\n",
        "b2.fly()\n"
      ],
      "metadata": {
        "colab": {
          "base_uri": "https://localhost:8080/"
        },
        "id": "02Pur-xm4v9R",
        "outputId": "fff4b753-e5c1-433e-9a6d-a94adb75e924"
      },
      "execution_count": null,
      "outputs": [
        {
          "output_type": "stream",
          "name": "stdout",
          "text": [
            "Sparrow flies high\n",
            "Penguins cannot fly\n"
          ]
        }
      ]
    },
    {
      "cell_type": "code",
      "source": [
        "# 5. Write a program to demonstrate encapsulation by creating a class BankAccount with private attributes\n",
        "# balance and methods to deposit, withdraw, and check balance.\n",
        "\n",
        "\n",
        "\n",
        "class BankAccount:\n",
        "    def __init__(self):\n",
        "        self.__balance = 0\n",
        "\n",
        "    def deposit(self, amount):\n",
        "        self.__balance += amount\n",
        "\n",
        "    def withdraw(self, amount):\n",
        "        if amount <= self.__balance:\n",
        "            self.__balance -= amount\n",
        "        else:\n",
        "            print(\"Insufficient balance\")\n",
        "\n",
        "    def check_balance(self):\n",
        "        print(\"Current Balance:\", self.__balance)\n",
        "\n",
        "acc = BankAccount()\n",
        "acc.deposit(1000)\n",
        "acc.withdraw(300)\n",
        "acc.check_balance()\n"
      ],
      "metadata": {
        "colab": {
          "base_uri": "https://localhost:8080/"
        },
        "id": "QpgtpYyW5E8M",
        "outputId": "de73d1e9-c1d7-4703-d160-b6a733d06c52"
      },
      "execution_count": null,
      "outputs": [
        {
          "output_type": "stream",
          "name": "stdout",
          "text": [
            "Current Balance: 700\n"
          ]
        }
      ]
    },
    {
      "cell_type": "code",
      "source": [
        "# 6. Demonstrate runtime polymorphism using a method play() in a base class Instrument. Derive classes Guitar\n",
        "# and Piano that implement their own version of play().\n",
        "\n",
        "class Instrument:\n",
        "    def play(self):\n",
        "        print(\"Playing an instrument\")\n",
        "\n",
        "class Guitar(Instrument):\n",
        "    def play(self):\n",
        "        print(\"Playing the guitar\")\n",
        "\n",
        "class Piano(Instrument):\n",
        "    def play(self):\n",
        "        print(\"Playing the piano\")\n",
        "\n",
        "i1 = Guitar()\n",
        "i2 = Piano()\n",
        "i1.play()\n",
        "i2.play()\n"
      ],
      "metadata": {
        "colab": {
          "base_uri": "https://localhost:8080/"
        },
        "id": "i2hFQdjw5UJy",
        "outputId": "c9525776-9ec0-4bc6-bee4-5ef466866d2b"
      },
      "execution_count": null,
      "outputs": [
        {
          "output_type": "stream",
          "name": "stdout",
          "text": [
            "Playing the guitar\n",
            "Playing the piano\n"
          ]
        }
      ]
    },
    {
      "cell_type": "code",
      "source": [
        "# 7. Create a class MathOperations with a class method add_numbers() to add two numbers and a static\n",
        "# method subtract_numbers() to subtract two numbers.\n",
        "\n",
        "class MathOperations:\n",
        "    @classmethod\n",
        "    def add_numbers(cls, a, b):\n",
        "        return a + b\n",
        "\n",
        "    @staticmethod\n",
        "    def subtract_numbers(a, b):\n",
        "        return a - b\n",
        "\n",
        "print(\"Addition:\", MathOperations.add_numbers(10, 5))\n",
        "print(\"Subtraction:\", MathOperations.subtract_numbers(10, 5))\n"
      ],
      "metadata": {
        "colab": {
          "base_uri": "https://localhost:8080/"
        },
        "id": "kNle_OEX5g8b",
        "outputId": "7e29f565-ac32-4a3e-d047-c8b0935a1c82"
      },
      "execution_count": null,
      "outputs": [
        {
          "output_type": "stream",
          "name": "stdout",
          "text": [
            "Addition: 15\n",
            "Subtraction: 5\n"
          ]
        }
      ]
    },
    {
      "cell_type": "code",
      "source": [
        "# 8. Implement a class Person with a class method to count the total number of persons created.\n",
        "\n",
        "class Person:\n",
        "    count = 0\n",
        "\n",
        "    def __init__(self, name):\n",
        "        self.name = name\n",
        "        Person.count += 1\n",
        "\n",
        "    @classmethod\n",
        "    def total_persons(cls):\n",
        "        print(\"Total Persons:\", cls.count)\n",
        "\n",
        "p1 = Person(\"A\")\n",
        "p2 = Person(\"B\")\n",
        "Person.total_persons()\n"
      ],
      "metadata": {
        "colab": {
          "base_uri": "https://localhost:8080/"
        },
        "id": "C5zZSYiQ5xWD",
        "outputId": "e16e5d04-ba8a-4b6b-9694-692495981291"
      },
      "execution_count": null,
      "outputs": [
        {
          "output_type": "stream",
          "name": "stdout",
          "text": [
            "Total Persons: 2\n"
          ]
        }
      ]
    },
    {
      "cell_type": "code",
      "source": [
        "# 9. Write a class Fraction with attributes numerator and denominator. Override the str method to display the\n",
        "# fraction as \"numerator/denominator\".\n",
        "\n",
        "class Fraction:\n",
        "    def __init__(self, numerator, denominator):\n",
        "        self.numerator = numerator\n",
        "        self.denominator = denominator\n",
        "\n",
        "    def __str__(self):\n",
        "        return f\"{self.numerator}/{self.denominator}\"\n",
        "\n",
        "f = Fraction(3, 5)\n",
        "print(f)\n"
      ],
      "metadata": {
        "colab": {
          "base_uri": "https://localhost:8080/"
        },
        "id": "NhBzwZw26HCY",
        "outputId": "2f3adfd1-775e-43e0-b4db-d72daaeb16f5"
      },
      "execution_count": null,
      "outputs": [
        {
          "output_type": "stream",
          "name": "stdout",
          "text": [
            "3/5\n"
          ]
        }
      ]
    },
    {
      "cell_type": "code",
      "source": [
        "# 10. Demonstrate operator overloading by creating a class Vector and overriding the add method to add two\n",
        "# vectors.\n",
        "\n",
        "class Vector:\n",
        "    def __init__(self, x, y):\n",
        "        self.x = x\n",
        "        self.y = y\n",
        "\n",
        "    def __add__(self, other):\n",
        "        return Vector(self.x + other.x, self.y + other.y)\n",
        "\n",
        "    def __str__(self):\n",
        "        return f\"({self.x}, {self.y})\"\n",
        "\n",
        "v1 = Vector(2, 3)\n",
        "v2 = Vector(4, 5)\n",
        "print(v1 + v2)\n"
      ],
      "metadata": {
        "colab": {
          "base_uri": "https://localhost:8080/"
        },
        "id": "2phGOLUJ6jXb",
        "outputId": "741dd5e5-6f3b-4ac4-dbc6-1e8ef6c673f1"
      },
      "execution_count": null,
      "outputs": [
        {
          "output_type": "stream",
          "name": "stdout",
          "text": [
            "(6, 8)\n"
          ]
        }
      ]
    },
    {
      "cell_type": "code",
      "source": [
        "# 11. Create a class Person with attributes name and age. Add a method greet() that prints \"Hello, my name is\n",
        "# {name} and I am {age} years old.\"\n",
        "\n",
        "class Person:\n",
        "    def __init__(self, name, age):\n",
        "        self.name = name\n",
        "        self.age = age\n",
        "\n",
        "    def greet(self):\n",
        "        print(f\"Hello, my name is {self.name} and I am {self.age} years old.\")\n",
        "\n",
        "p = Person(\"Yogesh\", 22)\n",
        "p.greet()\n"
      ],
      "metadata": {
        "id": "TYXndyvq7TUz",
        "colab": {
          "base_uri": "https://localhost:8080/"
        },
        "outputId": "a4328326-0ed3-4715-8fd7-f9edf17009e9"
      },
      "execution_count": null,
      "outputs": [
        {
          "output_type": "stream",
          "name": "stdout",
          "text": [
            "Hello, my name is Yogesh and I am 22 years old.\n"
          ]
        }
      ]
    },
    {
      "cell_type": "code",
      "source": [
        "# 12. Implement a class Student with attributes name and grades. Create a method average_grade() to compute\n",
        "# the average of the grades.\n",
        "\n",
        "class Student:\n",
        "    def __init__(self, name, grades):\n",
        "        self.name = name\n",
        "        self.grades = grades\n",
        "\n",
        "    def average_grade(self):\n",
        "        return sum(self.grades) / len(self.grades)\n",
        "\n",
        "s = Student(\"Rahul\", [85, 90, 95])\n",
        "print(\"Average Grade:\", s.average_grade())\n"
      ],
      "metadata": {
        "id": "0S_Jpbew7q3-",
        "colab": {
          "base_uri": "https://localhost:8080/"
        },
        "outputId": "8ab2d857-73bd-4af6-9428-711c5771eb95"
      },
      "execution_count": null,
      "outputs": [
        {
          "output_type": "stream",
          "name": "stdout",
          "text": [
            "Average Grade: 90.0\n"
          ]
        }
      ]
    },
    {
      "cell_type": "code",
      "source": [
        "# 13. Create a class Rectangle with methods set_dimensions() to set the dimensions and area() to calculate the\n",
        "# area.\n",
        "\n",
        "class Rectangle:\n",
        "    def set_dimensions(self, length, width):\n",
        "        self.length = length\n",
        "        self.width = width\n",
        "\n",
        "    def area(self):\n",
        "        return self.length * self.width\n",
        "\n",
        "r = Rectangle()\n",
        "r.set_dimensions(5, 3)\n",
        "print(\"Area of Rectangle:\", r.area())\n"
      ],
      "metadata": {
        "id": "9kj4Ztnh8DRy",
        "colab": {
          "base_uri": "https://localhost:8080/"
        },
        "outputId": "66a235b4-e040-4fec-d637-a03cb91e1c33"
      },
      "execution_count": 12,
      "outputs": [
        {
          "output_type": "stream",
          "name": "stdout",
          "text": [
            "Area of Rectangle: 15\n"
          ]
        }
      ]
    },
    {
      "cell_type": "code",
      "source": [
        "# 14. Create a class Employee with a method calculate_salary() that computes the salary based on hours worked\n",
        "# and hourly rate. Create a derived class Manager that adds a bonus to the salary.\n",
        "\n",
        "class Employee:\n",
        "    def calculate_salary(self, hours_worked, hourly_rate):\n",
        "        return hours_worked * hourly_rate\n",
        "\n",
        "class Manager(Employee):\n",
        "    def calculate_salary(self, hours_worked, hourly_rate, bonus):\n",
        "        base_salary = super().calculate_salary(hours_worked, hourly_rate)\n",
        "        return base_salary + bonus\n",
        "\n",
        "m = Manager()\n",
        "print(\"Manager Salary:\", m.calculate_salary(160, 200, 5000))\n",
        "\n",
        "\n"
      ],
      "metadata": {
        "colab": {
          "base_uri": "https://localhost:8080/"
        },
        "id": "hLbWgJDM8dO3",
        "outputId": "fb2702bf-52a1-4032-f73a-0e9dfb1f7cb1"
      },
      "execution_count": 13,
      "outputs": [
        {
          "output_type": "stream",
          "name": "stdout",
          "text": [
            "Manager Salary: 37000\n"
          ]
        }
      ]
    },
    {
      "cell_type": "code",
      "source": [
        "# 15. Create a class Product with attributes name, price, and quantity. Implement a method total_price() that\n",
        "# calculates the total price of the product.\n",
        "\n",
        "\n",
        "\n",
        "\n",
        "class Product:\n",
        "    def __init__(self, name, price, quantity):\n",
        "        self.name = name\n",
        "        self.price = price\n",
        "        self.quantity = quantity\n",
        "\n",
        "    def total_price(self):\n",
        "        return self.price * self.quantity\n",
        "\n",
        "p = Product(\"Laptop\", 50000, 2)\n",
        "print(\"Total Price:\", p.total_price())\n"
      ],
      "metadata": {
        "colab": {
          "base_uri": "https://localhost:8080/"
        },
        "id": "oGyYLe1h86ZD",
        "outputId": "36f36410-29d4-4d1f-a640-4c0d26182f17"
      },
      "execution_count": 14,
      "outputs": [
        {
          "output_type": "stream",
          "name": "stdout",
          "text": [
            "Total Price: 100000\n"
          ]
        }
      ]
    },
    {
      "cell_type": "code",
      "source": [
        "# 16. Create a class Animal with an abstract method sound(). Create two derived classes Cow and Sheep that\n",
        "# implement the sound() method.\n",
        "\n",
        "from abc import ABC, abstractmethod\n",
        "\n",
        "class Animal(ABC):\n",
        "    @abstractmethod\n",
        "    def sound(self):\n",
        "        pass\n",
        "\n",
        "class Cow(Animal):\n",
        "    def sound(self):\n",
        "        print(\"Moo\")\n",
        "\n",
        "class Sheep(Animal):\n",
        "    def sound(self):\n",
        "        print(\"Baa\")\n",
        "\n",
        "c = Cow()\n",
        "s = Sheep()\n",
        "c.sound()\n",
        "s.sound()\n"
      ],
      "metadata": {
        "colab": {
          "base_uri": "https://localhost:8080/"
        },
        "id": "TqeRcJk98-3n",
        "outputId": "499a0c6e-7f9a-4ec1-d655-fc32f51419c9"
      },
      "execution_count": 15,
      "outputs": [
        {
          "output_type": "stream",
          "name": "stdout",
          "text": [
            "Moo\n",
            "Baa\n"
          ]
        }
      ]
    },
    {
      "cell_type": "code",
      "source": [
        "# 17. Create a class Book with attributes title, author, and year_published. Add a method get_book_info() that\n",
        "# returns a formatted string with the book's details.\n",
        "\n",
        "class Book:\n",
        "    def __init__(self, title, author, year_published):\n",
        "        self.title = title\n",
        "        self.author = author\n",
        "        self.year_published = year_published\n",
        "\n",
        "    def get_book_info(self):\n",
        "        return f\"'{self.title}' by {self.author}, published in {self.year_published}\"\n",
        "\n",
        "b = Book(\"Python Basics\", \"John Doe\", 2024)\n",
        "print(b.get_book_info())\n"
      ],
      "metadata": {
        "colab": {
          "base_uri": "https://localhost:8080/"
        },
        "id": "rUZKf42b9FXW",
        "outputId": "6b02c157-7cd4-40be-c740-46186685a198"
      },
      "execution_count": 16,
      "outputs": [
        {
          "output_type": "stream",
          "name": "stdout",
          "text": [
            "'Python Basics' by John Doe, published in 2024\n"
          ]
        }
      ]
    },
    {
      "cell_type": "code",
      "source": [
        "# 18. Create a class House with attributes address and price. Create a derived class Mansion that adds an\n",
        "# attribute number_of_rooms.\n",
        "\n",
        "class House:\n",
        "    def __init__(self, address, price):\n",
        "        self.address = address\n",
        "        self.price = price\n",
        "\n",
        "class Mansion(House):\n",
        "    def __init__(self, address, price, number_of_rooms):\n",
        "        super().__init__(address, price)\n",
        "        self.number_of_rooms = number_of_rooms\n",
        "\n",
        "# Example usage\n",
        "m = Mansion(\"123 Beach Road\", 5000000, 10)\n",
        "print(\"Address:\", m.address)\n",
        "print(\"Price:\", m.price)\n",
        "print(\"Number of Rooms:\", m.number_of_rooms)\n"
      ],
      "metadata": {
        "colab": {
          "base_uri": "https://localhost:8080/"
        },
        "id": "JyfpyPnf9HBk",
        "outputId": "c1b9b345-953d-4d4a-aa0c-a791465fe587"
      },
      "execution_count": 17,
      "outputs": [
        {
          "output_type": "stream",
          "name": "stdout",
          "text": [
            "Address: 123 Beach Road\n",
            "Price: 5000000\n",
            "Number of Rooms: 10\n"
          ]
        }
      ]
    }
  ]
}